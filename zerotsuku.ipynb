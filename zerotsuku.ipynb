{
 "cells": [
  {
   "cell_type": "code",
   "execution_count": 168,
   "metadata": {},
   "outputs": [],
   "source": [
    "import numpy as np\n",
    "import pandas as pd\n",
    "from matplotlib import pyplot as plt\n",
    "import sys\n",
    "import os\n",
    "from PIL import Image\n",
    "from sklearn.preprocessing import OneHotEncoder\n",
    "import japanize_matplotlib as jm"
   ]
  },
  {
   "cell_type": "code",
   "execution_count": null,
   "metadata": {},
   "outputs": [],
   "source": [
    "import urllib.request\n",
    "import gzip\n",
    "import numpy as np\n",
    "import pickle\n",
    "\n",
    "\n",
    "url_base = 'http://yann.lecun.com/exdb/mnist/'\n",
    "key_file = {\n",
    "    'train_img':'train-images-idx3-ubyte.gz',\n",
    "    'train_label':'train-labels-idx1-ubyte.gz',\n",
    "    'test_img':'t10k-images-idx3-ubyte.gz',\n",
    "    'test_label':'t10k-labels-idx1-ubyte.gz'\n",
    "}\n",
    "dataset_dir = './mnist'    #データを保存する場所\n",
    "\n",
    "for v in key_file.values():\n",
    "    file_path = dataset_dir + '/' + v\n",
    "    urllib.request.urlretrieve(url_base + v, file_path)\n",
    "\n",
    "def load_img(file_name):\n",
    "    file_path = dataset_dir + '/' + file_name\n",
    "    with gzip.open(file_path, 'rb') as f:\n",
    "        data = np.frombuffer(f.read(), np.uint8, offset=16)\n",
    "    data = data.reshape(-1, 784)\n",
    "\n",
    "    return data\n",
    "\n",
    "def load_label(file_name):\n",
    "    file_path = dataset_dir + '/' + file_name\n",
    "    with gzip.open(file_path, 'rb') as f:\n",
    "        labels = np.frombuffer(f.read(), np.uint8, offset=8)\n",
    "\n",
    "    return labels\n",
    "\n",
    "dataset = {}\n",
    "dataset['train_img'] = load_img(key_file['train_img'])\n",
    "dataset['train_label'] = load_label(key_file['train_label'])\n",
    "dataset['test_img'] = load_img(key_file['test_img'])\n",
    "dataset['test_label'] = load_label(key_file['test_label'])\n",
    "\n",
    "save_file = dataset_dir + '/mnist.pkl'    #拡張子は.pkl\n",
    "with open(save_file, 'wb') as f:\n",
    "    pickle.dump(dataset, f, -1)    #-1は最も高いプロトコルバージョンで保存することを指定している\n"
   ]
  },
  {
   "cell_type": "markdown",
   "metadata": {},
   "source": [
    "## 2.3　パーセプトロンの実装  \n",
    "* パーセプトロンとは、複数の0,1入力をもとに1つの0,1出力を返すアルゴリズムのこと"
   ]
  },
  {
   "cell_type": "code",
   "execution_count": 1,
   "metadata": {},
   "outputs": [],
   "source": [
    "def AND(x1,x2):\n",
    "    w1, w2, theta = .5, .5, .7\n",
    "    tmp = x1 * w1 + x2 * w2 - theta\n",
    "    if tmp <= 0:\n",
    "        return 0\n",
    "    elif tmp > 0:\n",
    "        return 1"
   ]
  },
  {
   "cell_type": "code",
   "execution_count": 3,
   "metadata": {},
   "outputs": [
    {
     "name": "stdout",
     "output_type": "stream",
     "text": [
      "0\n",
      "1\n",
      "0\n",
      "0\n"
     ]
    }
   ],
   "source": [
    "print(AND(0,0))\n",
    "print(AND(1,1))\n",
    "print(AND(1,0))\n",
    "print(AND(0,1))"
   ]
  },
  {
   "cell_type": "markdown",
   "metadata": {},
   "source": [
    "* 重みとバイアスを導入。行列式の形にする"
   ]
  },
  {
   "cell_type": "markdown",
   "metadata": {},
   "source": [
    "2つの入力値$x_1,x_2$について、それぞれに対応する重み$w_1, w_2$をかけた和とバイアス($b$)の大小で出力を判断する。  \n",
    "$$\n",
    "y=\n",
    "\\left\\{\n",
    "\\begin{array}{ll}\n",
    "0 & (b + w_1 x_1 + w_2 x_2) \\leqq 0 \\\\\n",
    "1 & (b + w_1 x_1 + w_2 x_2) > 0\n",
    "\\end{array}\n",
    "\\right.\n",
    "$$"
   ]
  },
  {
   "cell_type": "code",
   "execution_count": 13,
   "metadata": {},
   "outputs": [],
   "source": [
    "def AND(x1, x2):\n",
    "    x = np.array([x1, x2])\n",
    "    w = np.array([.5, .5])\n",
    "    b = -.7\n",
    "    tmp = b + np.sum(x * w)\n",
    "    if tmp <= 0:\n",
    "        return 0\n",
    "    elif tmp > 0:\n",
    "        return 1"
   ]
  },
  {
   "cell_type": "code",
   "execution_count": 14,
   "metadata": {},
   "outputs": [
    {
     "name": "stdout",
     "output_type": "stream",
     "text": [
      "[0, 0] -> 0\n",
      "[0, 1] -> 0\n",
      "[1, 0] -> 0\n",
      "[1, 1] -> 1\n"
     ]
    }
   ],
   "source": [
    "for m in range(2):\n",
    "    for n in range(2):\n",
    "        print(f'{[m,n]} -> {AND(m,n)}')"
   ]
  },
  {
   "cell_type": "markdown",
   "metadata": {},
   "source": [
    "- 重み$w_n$は対応する入力値$x_n$それぞれの重要度を制御  \n",
    "- バイアス$b$はそのニューロンの発火しやすさを制御"
   ]
  },
  {
   "cell_type": "code",
   "execution_count": 23,
   "metadata": {},
   "outputs": [
    {
     "name": "stdout",
     "output_type": "stream",
     "text": [
      "NAND\n",
      "[0, 0] -> 1\n",
      "[0, 1] -> 1\n",
      "[1, 0] -> 1\n",
      "[1, 1] -> 0\n"
     ]
    }
   ],
   "source": [
    "def NAND(x1, x2):\n",
    "    x = np.array([x1, x2])\n",
    "    w = np.array([-.5, -.5])\n",
    "    b = .7\n",
    "    tmp = b + np.sum(x * w)\n",
    "    if tmp <= 0:\n",
    "        return 0\n",
    "    elif tmp > 0:\n",
    "        return 1\n",
    "\n",
    "print('NAND')\n",
    "for m in range(2):\n",
    "    for n in range(2):\n",
    "        print(f'{[m,n]} -> {NAND(m,n)}')"
   ]
  },
  {
   "cell_type": "code",
   "execution_count": 33,
   "metadata": {},
   "outputs": [
    {
     "name": "stdout",
     "output_type": "stream",
     "text": [
      "NAND\n",
      "[0, 0] -> 0\n",
      "[0, 1] -> 1\n",
      "[1, 0] -> 1\n",
      "[1, 1] -> 1\n"
     ]
    }
   ],
   "source": [
    "def OR(x1, x2):\n",
    "    x = np.array([x1, x2])\n",
    "    w = np.array([.5, .5])\n",
    "    b = -.2\n",
    "    tmp = b + np.sum(x * w)\n",
    "    if tmp <= 0:\n",
    "        return 0\n",
    "    elif tmp > 0:\n",
    "        return 1\n",
    "\n",
    "print('NAND')\n",
    "for m in range(2):\n",
    "    for n in range(2):\n",
    "        print(f'{[m,n]} -> {OR(m,n)}')"
   ]
  },
  {
   "cell_type": "markdown",
   "metadata": {},
   "source": [
    "* XOR:排他的論理和  \n",
    "これは線型のパーセプトロンでは実装できない\n",
    "\n",
    "| $x_1$ | $x_2$ | $y$ |  \n",
    "| :---: | :---: | :---: |  \n",
    "| 0 | 0 | 0 |  \n",
    "| 1 | 0 | 1 |  \n",
    "| 0 | 1 | 1 |  \n",
    "| 1 | 1 | 0 |  "
   ]
  },
  {
   "cell_type": "code",
   "execution_count": 56,
   "metadata": {},
   "outputs": [
    {
     "data": {
      "text/plain": [
       "<matplotlib.legend.Legend at 0x121b8d6f0>"
      ]
     },
     "execution_count": 56,
     "metadata": {},
     "output_type": "execute_result"
    },
    {
     "data": {
      "image/png": "[encoded data removed]",
      "text/plain": [
       "<Figure size 640x480 with 1 Axes>"
      ]
     },
     "metadata": {},
     "output_type": "display_data"
    }
   ],
   "source": [
    "plt.xlim([-1,2])\n",
    "plt.ylim([-1,2])\n",
    "plt.hlines(y=0,xmin=-5,xmax=5,colors='gray')\n",
    "plt.vlines(x=0,ymin=-5,ymax=5,colors='gray')\n",
    "plt.scatter(x=[0,1],y=[0,1],marker='^',s=100,label='0')\n",
    "plt.scatter(x=[0,1],y=[1,0],marker='o',s=100,label='1')\n",
    "plt.legend(loc='best')\n"
   ]
  },
  {
   "cell_type": "markdown",
   "metadata": {},
   "source": [
    "* 上の図で、三角(出力が0)と丸(出力が1)を分ける直線が引けない"
   ]
  },
  {
   "cell_type": "markdown",
   "metadata": {},
   "source": [
    "### 多層パーセプトロン\n",
    "* パーセプトロンを組み合わせることで非線形の分離を実装可能  "
   ]
  },
  {
   "cell_type": "code",
   "execution_count": 63,
   "metadata": {},
   "outputs": [
    {
     "name": "stdout",
     "output_type": "stream",
     "text": [
      "XOR\n",
      "[0, 0] -> AND:0, NAND:1, OR:0, XOR:0\n",
      "[0, 1] -> AND:0, NAND:1, OR:1, XOR:1\n",
      "[1, 0] -> AND:0, NAND:1, OR:1, XOR:1\n",
      "[1, 1] -> AND:1, NAND:0, OR:1, XOR:0\n"
     ]
    }
   ],
   "source": [
    "def XOR(x1,x2):\n",
    "    s1 = OR(x1,x2)\n",
    "    s2 = NAND(x1,x2)\n",
    "    y = AND(s1,s2)\n",
    "    return y\n",
    "\n",
    "print('XOR')\n",
    "for m in range(2):\n",
    "    for n in range(2):\n",
    "        print(f'{[m,n]} -> AND:{AND(m,n)}, NAND:{NAND(m,n)}, OR:{OR(m,n)}, XOR:{XOR(m,n)}')"
   ]
  },
  {
   "cell_type": "markdown",
   "metadata": {},
   "source": [
    "* 線型なパーセプトロンでも多層にすることで非線形な表現が可能。\n",
    "* でも今のところ、パラメータ(重みやバイアス)の値は人間が期待する出力に合わせて調整している\n",
    "* 最適なパラメータをデータから学習させることを考える"
   ]
  },
  {
   "cell_type": "markdown",
   "metadata": {},
   "source": [
    "### ニューラルネットワーク"
   ]
  },
  {
   "cell_type": "markdown",
   "metadata": {},
   "source": [
    "$$\n",
    "y=\n",
    "\\left\\{\n",
    "\\begin{array}{ll}\n",
    "0 & (b + w_1 x_1 + w_2 x_2) \\leqq 0 \\\\\n",
    "1 & (b + w_1 x_1 + w_2 x_2) > 0\n",
    "\\end{array}\n",
    "\\right.\n",
    "$$\n",
    "を、以下のように変換する  \n",
    "\n",
    "$$\n",
    "a= b + w_1 x_1 + w_2 x_2\n",
    "$$\n",
    "$$\n",
    "h(x) = \\left\\{\n",
    "\\begin{array}{ll}\n",
    "0 & x \\leqq 0 \\\\\n",
    "1 & x > 0\n",
    "\\end{array}\n",
    "\\right.\n",
    "$$\n",
    "$$\n",
    "y = h(a)\n",
    "$$\n",
    "\n",
    "$a$ : 入力信号の重み付き和(バイアス含む)を計算  \n",
    "$h(x)$ : そのニューロンが発火する条件が指定されている**活性化関数**  \n",
    "$y$ : 入力の重み付き和を活性化関数に引き渡した結果の出力  "
   ]
  },
  {
   "cell_type": "markdown",
   "metadata": {},
   "source": [
    "* 活性化関数はさまざまな関数たりうるが、パーセプトロンはある閾値で出力が切り替わる**ステップ関数**を活性化関数として採用したNNだと言える\n",
    "* ニューラルネットワークでは一般的に**シグモイド関数**が使われる  \n",
    "\n",
    "$$\n",
    "h(x)=\\frac{1}{1+\\exp(-x)}\n",
    "$$\n",
    "\n",
    "* ステップ関数とシグモイド関数を比較"
   ]
  },
  {
   "cell_type": "code",
   "execution_count": 72,
   "metadata": {},
   "outputs": [],
   "source": [
    "def step_function(x:np.array):\n",
    "    y = x > 0\n",
    "    return y.astype(int)\n",
    "def sigmoid(x:np.array):\n",
    "    y = 1/(1+np.exp(-x))\n",
    "    return y"
   ]
  },
  {
   "cell_type": "code",
   "execution_count": 70,
   "metadata": {},
   "outputs": [
    {
     "data": {
      "text/plain": [
       "array([1, 0, 1, 1, 1])"
      ]
     },
     "execution_count": 70,
     "metadata": {},
     "output_type": "execute_result"
    }
   ],
   "source": [
    "x = np.array([1,0,.5,1.4,50])\n",
    "step_function(x)"
   ]
  },
  {
   "cell_type": "code",
   "execution_count": 76,
   "metadata": {},
   "outputs": [
    {
     "data": {
      "text/plain": [
       "<matplotlib.legend.Legend at 0x1277177c0>"
      ]
     },
     "execution_count": 76,
     "metadata": {},
     "output_type": "execute_result"
    },
    {
     "data": {
      "image/png": "[encoded data removed]",
      "text/plain": [
       "<Figure size 640x480 with 1 Axes>"
      ]
     },
     "metadata": {},
     "output_type": "display_data"
    }
   ],
   "source": [
    "x=np.linspace(-5,5,100)\n",
    "y_step=step_function(x)\n",
    "y_sig=sigmoid(x)\n",
    "plt.plot(x,y_step,label='step_func')\n",
    "plt.plot(x,y_sig, label = 'sigmoid')\n",
    "plt.legend(loc ='best')"
   ]
  },
  {
   "cell_type": "markdown",
   "metadata": {},
   "source": [
    "- 最近のNNではReLU関数という関数が活性化関数で使われることが多い。<ins>**Re**</ins>ctified <ins>**L**</ins>inear <ins>**U**</ins>nit\n",
    "$$\n",
    "y=\n",
    "\\left\\{\n",
    "\\begin{array}{ll}\n",
    "0 & x\\leqq 0 \\\\\n",
    "x & x > 0\n",
    "\\end{array}\n",
    "\\right.\n",
    "$$"
   ]
  },
  {
   "cell_type": "code",
   "execution_count": 77,
   "metadata": {},
   "outputs": [
    {
     "data": {
      "text/plain": [
       "<matplotlib.legend.Legend at 0x1277a6410>"
      ]
     },
     "execution_count": 77,
     "metadata": {},
     "output_type": "execute_result"
    },
    {
     "data": {
      "image/png": "[encoded data removed]",
      "text/plain": [
       "<Figure size 640x480 with 1 Axes>"
      ]
     },
     "metadata": {},
     "output_type": "display_data"
    }
   ],
   "source": [
    "def relu(x):\n",
    "    return np.maximum(x,0)\n",
    "\n",
    "x=np.linspace(-5,5,100)\n",
    "y_step=step_function(x)\n",
    "y_sig=sigmoid(x)\n",
    "y_relu=relu(x)\n",
    "plt.plot(x,y_step,label='step_func')\n",
    "plt.plot(x,y_sig, label = 'sigmoid')\n",
    "plt.plot(x,y_relu, label = 'ReLU')\n",
    "plt.legend(loc ='best')"
   ]
  },
  {
   "cell_type": "markdown",
   "metadata": {},
   "source": [
    "### 多次元配列の計算"
   ]
  },
  {
   "cell_type": "markdown",
   "metadata": {},
   "source": [
    "- NNの計算を行列で行うと１発で計算できる。\n",
    "- 2つのインプット$x_1,x_2$に対して、それぞれ[$w_{11},w_{21}$],[$w_{12},w_{22}$],[$w_{13},w_{23}$]の重み付けをした出力$y_1,y_2,y_3$は以下のように求められる。\n",
    "\n",
    "$$\n",
    "\\begin{pmatrix}\n",
    "x_1 & x_2 \\\\\n",
    "\\end{pmatrix}\n",
    "\\begin{pmatrix}\n",
    "w_{11} & w_{12} & w_{13}\\\\\n",
    "w_{21} & w_{22} & w_{23}\\\\\n",
    "\\end{pmatrix}\n",
    "=\n",
    "\\begin{pmatrix}\n",
    "y_1=x_1 \\times w_{11}+x_2 \\times w_{21} & y_2=x_1 \\times w_{12}+x_2 \\times w_{22} & y_3=x_1 \\times w_{13}+x_2 \\times w_{23}\n",
    "\\end{pmatrix}\n",
    "$$\n",
    "\n",
    "入力ベクトルのn番目のニューロンを出力ベクトルのm番目にするためにかかる重みwを$w_{nm}$"
   ]
  },
  {
   "cell_type": "markdown",
   "metadata": {},
   "source": [
    "- おさらい  \n",
    "入力に重みをかけてバイアスを足した値を活性化関数にかけた出力が出力値  \n",
    "$$\n",
    "output = h(input \\times weight + bias)\n",
    "$$\n",
    "$$\n",
    "Y=h(X \\times W + B)\n",
    "$$"
   ]
  },
  {
   "cell_type": "markdown",
   "metadata": {},
   "source": [
    "### 適当な実装"
   ]
  },
  {
   "cell_type": "markdown",
   "metadata": {},
   "source": [
    "#### まずは重み付き和"
   ]
  },
  {
   "cell_type": "code",
   "execution_count": 97,
   "metadata": {},
   "outputs": [
    {
     "data": {
      "text/plain": [
       "array([0.3, 0.7, 1.1])"
      ]
     },
     "execution_count": 97,
     "metadata": {},
     "output_type": "execute_result"
    }
   ],
   "source": [
    "X = np.array([1.0, 0.5])\n",
    "W1 = np.array([\n",
    "    [.1, .3, .5],\n",
    "    [.2, .4, .6]\n",
    "])\n",
    "B1 = np.array([.1, .2, .3])\n",
    "A1 =np.dot(X, W1) + B1\n",
    "A1"
   ]
  },
  {
   "cell_type": "markdown",
   "metadata": {},
   "source": [
    "#### 次に活性化関数 -> 第一層"
   ]
  },
  {
   "cell_type": "code",
   "execution_count": 98,
   "metadata": {},
   "outputs": [
    {
     "data": {
      "text/plain": [
       "array([0.57444252, 0.66818777, 0.75026011])"
      ]
     },
     "execution_count": 98,
     "metadata": {},
     "output_type": "execute_result"
    }
   ],
   "source": [
    "Z1 = sigmoid(A1)\n",
    "Z1"
   ]
  },
  {
   "cell_type": "markdown",
   "metadata": {},
   "source": [
    "#### 第１層の重み付き和→第二層へ"
   ]
  },
  {
   "cell_type": "code",
   "execution_count": 99,
   "metadata": {},
   "outputs": [],
   "source": [
    "W2 = np.array([\n",
    "    [.1, .4],\n",
    "    [.2, .5],\n",
    "    [.3, .6]\n",
    "])\n",
    "B2 = np.array([.1, .2])\n",
    "A2 = np.dot(Z1,W2) + B2\n",
    "Z2 = sigmoid(A2)"
   ]
  },
  {
   "cell_type": "code",
   "execution_count": 100,
   "metadata": {},
   "outputs": [],
   "source": [
    "def identify_function(x):\n",
    "    return x"
   ]
  },
  {
   "cell_type": "markdown",
   "metadata": {},
   "source": [
    "#### 出力"
   ]
  },
  {
   "cell_type": "code",
   "execution_count": 101,
   "metadata": {},
   "outputs": [
    {
     "data": {
      "text/plain": [
       "array([0.31682708, 0.69627909])"
      ]
     },
     "execution_count": 101,
     "metadata": {},
     "output_type": "execute_result"
    }
   ],
   "source": [
    "W3 = np.array([\n",
    "    [.1, .3],\n",
    "    [.2, .4]\n",
    "])\n",
    "B2 = np.array([.1, .2])\n",
    "\n",
    "Y = identify_function(np.dot(Z2,W3) + B2)\n",
    "Y"
   ]
  },
  {
   "cell_type": "markdown",
   "metadata": {},
   "source": [
    "#### ここまでを一気に実装する"
   ]
  },
  {
   "cell_type": "code",
   "execution_count": 44,
   "metadata": {},
   "outputs": [],
   "source": [
    "def sigmoid(x:np.array):\n",
    "    return 1/(1+np.exp(-x))\n",
    "\n",
    "def identify_function(x):\n",
    "    return x\n",
    "\n",
    "def init_network():\n",
    "    network = {}\n",
    "    network['W1']=np.array([\n",
    "        [.1, .3, .5],\n",
    "        [.2, .4, .5],\n",
    "    ])\n",
    "    network['b1']=np.array([.1, .2, .3])\n",
    "    network['W2']=np.array([\n",
    "        [.1, .4],\n",
    "        [.2, .5],\n",
    "        [.3, .6]\n",
    "    ])\n",
    "    network['b2']=np.array([.1, .2])\n",
    "    network['W3']=np.array([\n",
    "        [.1, .3],\n",
    "        [.2, .4]\n",
    "    ])\n",
    "    network['b3']=np.array([.1, .2])\n",
    "    return network\n",
    "\n",
    "def forward(network, x):\n",
    "    W1, W2, W3 = network['W1'], network['W2'], network['W3']\n",
    "    b1, b2, b3 = network['b1'], network['b2'], network['b3']\n",
    "\n",
    "    a1 = np.dot(x, W1) + b1\n",
    "    z1 = sigmoid(a1)\n",
    "    a2 = np.dot(z1, W2) + b2\n",
    "    z2 = sigmoid(a2)\n",
    "    a3 = np.dot(z2, W3) + b3\n",
    "    y = identify_function(a3)\n",
    "    return y"
   ]
  },
  {
   "cell_type": "code",
   "execution_count": 103,
   "metadata": {},
   "outputs": [
    {
     "name": "stdout",
     "output_type": "stream",
     "text": [
      "[0.31655918 0.69567667]\n"
     ]
    }
   ],
   "source": [
    "network = init_network()\n",
    "x=(1, .5)\n",
    "y = forward(network, x)\n",
    "print(y)"
   ]
  },
  {
   "cell_type": "markdown",
   "metadata": {},
   "source": [
    "## 3.5 出力層"
   ]
  },
  {
   "cell_type": "markdown",
   "metadata": {},
   "source": [
    "ニューラルネットワークは出力層を変えることで回帰にも分類にも応用可能。  \n",
    "一般的に回帰の場合は恒等関数、分類のときはソフトマックス関数が用いられる"
   ]
  },
  {
   "cell_type": "markdown",
   "metadata": {},
   "source": [
    "恒等関数＝入力値をそのまま返す関数\n",
    "ソフトマックス関数\n",
    "$$y_k=\\frac{exp(a_k)}{\\sum_{i=1}^{n}exp(a_i)}$$\n",
    "n個の入力がある時のk番目の出力には、全ての入力の指数関数の和が関係する"
   ]
  },
  {
   "cell_type": "code",
   "execution_count": 3,
   "metadata": {},
   "outputs": [
    {
     "name": "stdout",
     "output_type": "stream",
     "text": [
      "[0.01821127 0.24519181 0.73659691]\n"
     ]
    }
   ],
   "source": [
    "# ソフトマックス関数の実装\n",
    "a = np.array([.3, 2.9, 4])\n",
    "exp_a = np.exp(a)\n",
    "sum_exp_a = np.sum(exp_a)\n",
    "y = exp_a / sum_exp_a\n",
    "print(y)"
   ]
  },
  {
   "cell_type": "code",
   "execution_count": 7,
   "metadata": {},
   "outputs": [
    {
     "name": "stdout",
     "output_type": "stream",
     "text": [
      "[0.3 2.9 4. ]\n",
      "[0.01821127 0.24519181 0.73659691]\n"
     ]
    }
   ],
   "source": [
    "def softmax(a):\n",
    "    exp_a = np.exp(a)\n",
    "    sum_exp_a = np.sum(exp_a)\n",
    "    return exp_a / sum_exp_a\n",
    "\n",
    "print(a)\n",
    "print(softmax(a))"
   ]
  },
  {
   "cell_type": "markdown",
   "metadata": {},
   "source": [
    "ソフトマックスの計算で登場するeの指数関数は莫大な値になってしまう。\n",
    "以下の数式変換によって、任意の定数を足し引きしても元の出力と変わらないことを利用し、与えられた入力の最大値を引くことで計算量を節約する。\n",
    "$$\n",
    "\\begin{align}\n",
    "y_k &= \\frac{exp(a_k)}{\\sum_{i=1}^{n}exp(a_i)}\\\\\n",
    "&= \\frac{C \\times exp(a_k)}{C \\times \\sum_{i=1}^{n}exp(a_i)}\\\\\n",
    "&= \\frac{exp(a_k+logC)}{\\sum_{i=1}^{n}exp(a_i+logC)}\\\\\n",
    "&= \\frac{exp(a_k+C')}{\\sum_{i=1}^{n}exp(a_i+C')}\\\\\n",
    "&= \\frac{exp(c_k)}{\\sum_{i=1}^{n}exp(c_i)}\\\\\n",
    "\\end{align} \\\\\n",
    "(c_k = a_k+C'とおく)\n",
    "$$"
   ]
  },
  {
   "cell_type": "code",
   "execution_count": 12,
   "metadata": {},
   "outputs": [
    {
     "name": "stdout",
     "output_type": "stream",
     "text": [
      "[nan nan nan]\n"
     ]
    },
    {
     "name": "stderr",
     "output_type": "stream",
     "text": [
      "/var/folders/hs/ztz399gn2s1gkzbjjfpyc5_w0000gn/T/ipykernel_3422/1715826989.py:2: RuntimeWarning: overflow encountered in exp\n",
      "  exp_a = np.exp(a)\n",
      "/var/folders/hs/ztz399gn2s1gkzbjjfpyc5_w0000gn/T/ipykernel_3422/1715826989.py:4: RuntimeWarning: invalid value encountered in divide\n",
      "  return exp_a / sum_exp_a\n"
     ]
    }
   ],
   "source": [
    "a = np.array([1010,1000,990])\n",
    "print(softmax(a))"
   ]
  },
  {
   "cell_type": "code",
   "execution_count": 13,
   "metadata": {},
   "outputs": [
    {
     "name": "stdout",
     "output_type": "stream",
     "text": [
      "[9.99954600e-01 4.53978686e-05 2.06106005e-09]\n"
     ]
    }
   ],
   "source": [
    "c = a - np.max(a)\n",
    "exp_c = np.exp(c)\n",
    "sum_exp_c = np.sum(exp_c)\n",
    "y = exp_c / sum_exp_c\n",
    "print(y)"
   ]
  },
  {
   "cell_type": "code",
   "execution_count": 15,
   "metadata": {},
   "outputs": [
    {
     "name": "stdout",
     "output_type": "stream",
     "text": [
      "[1010 1000  990]\n",
      "[9.99954600e-01 4.53978686e-05 2.06106005e-09]\n"
     ]
    }
   ],
   "source": [
    "def softmax(a):\n",
    "    a = a-np.max(a)\n",
    "    exp_a = np.exp(a)\n",
    "    sum_exp_a = np.sum(exp_a)\n",
    "    return exp_a / sum_exp_a\n",
    "\n",
    "print(a)\n",
    "print(softmax(a))"
   ]
  },
  {
   "cell_type": "markdown",
   "metadata": {},
   "source": [
    "ソフトマックス関数の特徴として、総和が1になる。\n",
    "これによって、出力を確率として解釈することができ、最も大きな出力をもつクラスを分類問題の答えに割り当てることが可能。\n",
    "一方で、ソフトマックス関数は単調増加関数であるため、最も大きな入力に対応する出力が最も大きい。\n",
    "確率の出力値が不要で、<ins>最も確率が高い入力がどれか</ins>がわかれば良い場合はソフトマックス関数を省略するケースも多い。"
   ]
  },
  {
   "cell_type": "markdown",
   "metadata": {},
   "source": [
    "出力層の数は、問題によって異なる。\n",
    "クラス分類なら分類したいクラスの数だけ最終出力を用意する"
   ]
  },
  {
   "cell_type": "markdown",
   "metadata": {},
   "source": [
    "## 3.6 手書き数字の認識 10クラス分類問題の実装"
   ]
  },
  {
   "cell_type": "code",
   "execution_count": 26,
   "metadata": {},
   "outputs": [
    {
     "data": {
      "text/plain": [
       "dict_keys(['train_img', 'train_label', 'test_img', 'test_label'])"
      ]
     },
     "execution_count": 26,
     "metadata": {},
     "output_type": "execute_result"
    }
   ],
   "source": [
    "dataset.keys()"
   ]
  },
  {
   "cell_type": "code",
   "execution_count": 34,
   "metadata": {},
   "outputs": [],
   "source": [
    "pil=Image.fromarray(dataset['train_img'][0].reshape(28,28))\n",
    "pil.show()"
   ]
  },
  {
   "cell_type": "markdown",
   "metadata": {},
   "source": [
    "28×28pixelの数字の画像を推論する。\n",
    "入力情報は各ピクセルの値なので$28 \\times 28 = 784$、出力情報は0〜9の数字を当てるので10\n",
    "隠れ層は任意だがテキストに従って、2層、50->100ニューロンにする"
   ]
  },
  {
   "cell_type": "code",
   "execution_count": 41,
   "metadata": {},
   "outputs": [],
   "source": [
    "X_train, X_test, y_train, y_test = \\\n",
    "    dataset['train_img']/255.0, dataset['test_img']/255.0, \\\n",
    "    dataset['train_label'], dataset['test_label']\n",
    "# 明度スコア0~255を255で割って0~1に正規化"
   ]
  },
  {
   "cell_type": "code",
   "execution_count": 62,
   "metadata": {},
   "outputs": [],
   "source": [
    "def init_network(): # デモとして訓練ずみの重み,バイアスを使用\n",
    "    with open('./mnist/sample_weight.pkl','rb') as f:\n",
    "        network = pickle.load(f)\n",
    "        return network\n",
    "\n",
    "def predict(network, x):\n",
    "    W1,W2,W3 = network['W1'],network['W2'],network['W3']\n",
    "    b1,b2,b3 = network['b1'],network['b2'],network['b3']\n",
    "\n",
    "    a1 = np.dot(x, W1) + b1 # 入力に重みとバイアス\n",
    "    z1 = sigmoid(a1) # 第一層の活性化関数\n",
    "    a2 = np.dot(z1, W2) + b2 # 第一層の出力に重みとバイアス\n",
    "    z2 = sigmoid(a2) # 第二層の活性化関数\n",
    "    a3 = np.dot(z2, W3) + b3 # 第二層の出力に重みとバイアス\n",
    "    y = softmax(a3) # 出力層の活性化関数\n",
    "    return y"
   ]
  },
  {
   "cell_type": "code",
   "execution_count": 63,
   "metadata": {},
   "outputs": [],
   "source": [
    "network = init_network()\n",
    "y = predict(network,X_test[0])"
   ]
  },
  {
   "cell_type": "code",
   "execution_count": 65,
   "metadata": {},
   "outputs": [
    {
     "data": {
      "text/plain": [
       "7"
      ]
     },
     "execution_count": 65,
     "metadata": {},
     "output_type": "execute_result"
    }
   ],
   "source": [
    "np.argmax(y)"
   ]
  },
  {
   "cell_type": "code",
   "execution_count": 74,
   "metadata": {},
   "outputs": [],
   "source": [
    "y_predicted = np.array([np.argmax(predict(network,x)) for x in X_test])"
   ]
  },
  {
   "cell_type": "code",
   "execution_count": 81,
   "metadata": {},
   "outputs": [
    {
     "data": {
      "text/plain": [
       "(array([False,  True]), array([ 648, 9352]))"
      ]
     },
     "execution_count": 81,
     "metadata": {},
     "output_type": "execute_result"
    }
   ],
   "source": [
    "result = np.unique(y_test==y_predicted,return_counts=True)\n",
    "result"
   ]
  },
  {
   "cell_type": "code",
   "execution_count": 95,
   "metadata": {},
   "outputs": [
    {
     "name": "stdout",
     "output_type": "stream",
     "text": [
      "Accuracy = 93.52%\n"
     ]
    }
   ],
   "source": [
    "score = result[1][result[0]==True][0]/y_predicted.size\n",
    "print(f'Accuracy = {score:.2%}')\n"
   ]
  },
  {
   "cell_type": "code",
   "execution_count": 96,
   "metadata": {},
   "outputs": [
    {
     "name": "stdout",
     "output_type": "stream",
     "text": [
      "(784,) (784, 50) (50,) (50, 100) (100,) (100, 10) (10,)\n"
     ]
    }
   ],
   "source": [
    "print(\n",
    "    X_test[0].shape,\n",
    "    network['W1'].shape,\n",
    "    network['b1'].shape,\n",
    "    network['W2'].shape,\n",
    "    network['b2'].shape,\n",
    "    network['W3'].shape,\n",
    "    network['b3'].shape,\n",
    ")"
   ]
  },
  {
   "cell_type": "markdown",
   "metadata": {},
   "source": [
    "先の実装では、10000枚の画像を一つずつNNに通して計算していた。  \n",
    "バッチ処理で、一気に100枚ずつNNに通すように回収する（計算速度の利点）"
   ]
  },
  {
   "cell_type": "code",
   "execution_count": 98,
   "metadata": {},
   "outputs": [
    {
     "data": {
      "text/plain": [
       "(100, 784)"
      ]
     },
     "execution_count": 98,
     "metadata": {},
     "output_type": "execute_result"
    }
   ],
   "source": [
    "X_test[0:100].shape"
   ]
  },
  {
   "cell_type": "code",
   "execution_count": 105,
   "metadata": {},
   "outputs": [],
   "source": [
    "batch_size = 100\n",
    "accuracy_cnt = 0\n",
    "\n",
    "for i in range(0,len(X_test),batch_size):\n",
    "    x_batch = X_test[i:i+batch_size]\n",
    "    y_predicted = np.argmax(predict(network,x_batch),axis=1)\n",
    "    accuracy_cnt += np.sum(y_predicted == y_test[i:i+batch_size])"
   ]
  },
  {
   "cell_type": "code",
   "execution_count": 106,
   "metadata": {},
   "outputs": [
    {
     "data": {
      "text/plain": [
       "0.9352"
      ]
     },
     "execution_count": 106,
     "metadata": {},
     "output_type": "execute_result"
    }
   ],
   "source": [
    "accuracy_cnt/y_test.size"
   ]
  },
  {
   "cell_type": "code",
   "execution_count": 107,
   "metadata": {},
   "outputs": [
    {
     "data": {
      "text/plain": [
       "0.9352"
      ]
     },
     "execution_count": 107,
     "metadata": {},
     "output_type": "execute_result"
    }
   ],
   "source": [
    "batch_size = 10000\n",
    "accuracy_cnt = 0\n",
    "\n",
    "for i in range(0,len(X_test),batch_size):\n",
    "    x_batch = X_test[i:i+batch_size]\n",
    "    y_predicted = np.argmax(predict(network,x_batch),axis=1)\n",
    "    accuracy_cnt += np.sum(y_predicted == y_test[i:i+batch_size])\n",
    "accuracy_cnt/y_test.size"
   ]
  },
  {
   "cell_type": "code",
   "execution_count": 109,
   "metadata": {},
   "outputs": [
    {
     "name": "stdout",
     "output_type": "stream",
     "text": [
      "93.52%\n"
     ]
    }
   ],
   "source": [
    "y_predicted=np.argmax(predict(network,X_test),axis=1)\n",
    "accuracy_cnt = np.sum(y_predicted==y_test)\n",
    "accuracy_score = accuracy_cnt/y_predicted.size\n",
    "print(f'{accuracy_score:.2%}')"
   ]
  },
  {
   "cell_type": "markdown",
   "metadata": {},
   "source": [
    "え、そもそものテストデータを(10000個,784pixel)の行列とみなしたらわざわざバッチ処理なんて小面倒なことしなくても一気に計算できるのでは？"
   ]
  },
  {
   "cell_type": "markdown",
   "metadata": {},
   "source": [
    "## 4.2 損失関数\n",
    "一般的な機械学習は人間の手で加工した特徴量を突っ込んで機械が学習する。  \n",
    "特徴量エンジニアリングが必須。  \n",
    "一方でNNは、特徴量の作成までも機械が行うend to end ML。  \n",
    "NNにおいては、損失関数という**精度がどれだけ悪いか**という指標を用いて、損失関数を最小化するように機械が勝手にチューニングを行う。\n",
    "損失関数には複数あり、よく用いられるものとして以下がある。\n",
    "1. 二乗和誤差\n",
    "1. 交差エントロピー誤差"
   ]
  },
  {
   "cell_type": "markdown",
   "metadata": {},
   "source": [
    "### 二乗和誤差\n",
    "$$\n",
    "E = \\frac{1}{2} \\sum\\limits_{k} (y_k-t_k)^2\n",
    "$$\n",
    "$t$は教師データ、$y$はNNの出力を表す。\n",
    "手書き数字を当てる問題だと、$y$はsoftmax関数の出力で0~9それぞれに該当する確率が出てくる。\n",
    "$$\n",
    "y = \\begin{pmatrix}\n",
    " 0の確率 \\\\ 1の確率 \\\\ 2の確率 \\\\ 3の確率 \\\\ 4の確率 \\\\ 5の確率 \\\\ 6の確率 \\\\ 7の確率 \\\\ 8の確率 \\\\ 9の確率\n",
    "\\end{pmatrix}\n",
    "=\n",
    "\\begin{pmatrix}\n",
    " 0.1 \\\\ 0.01 \\\\ 0.4 \\\\ 0.2 \\\\ 0.1 \\\\ 0.8 \\\\ 0.1 \\\\ 0.03 \\\\ 0.02 \\\\ 0.4\n",
    "\\end{pmatrix}\n",
    "$$\n",
    "一方で$t$は正解データのone hot encodingデータ。\n",
    "$$\n",
    "t =\n",
    "\\begin{pmatrix}\n",
    " 0 \\\\ 1 \\\\ 2 \\\\ 3 \\\\ 4 \\\\ 5 \\\\ 6 \\\\ 7 \\\\ 8 \\\\ 9\n",
    "\\end{pmatrix}\n",
    "=\n",
    "\\begin{pmatrix}\n",
    " 0 \\\\ 0 \\\\ 0 \\\\ 0 \\\\ 0 \\\\ 1 \\\\ 0 \\\\ 0 \\\\ 0 \\\\ 0\n",
    "\\end{pmatrix}\n",
    "$$\n",
    "それぞれの数字に対して正解と確率の差の二乗を足し込んだ値を最小化していく、という考え方。\n",
    "2で割っている理由は、この後出てくる勾配法にて、この損失関数の傾きを計算する際に微分する際、計算が簡単になるために慣習としてつけているらしい。"
   ]
  },
  {
   "cell_type": "code",
   "execution_count": 110,
   "metadata": {},
   "outputs": [],
   "source": [
    "def sum_squared_error(pred,train):\n",
    "    return 0.5 * np.sum((pred-train)**2)"
   ]
  },
  {
   "cell_type": "markdown",
   "metadata": {},
   "source": [
    "### 交差エントロピー誤差\n",
    "$$\n",
    "E = -\\sum\\limits_{k} t_k\\log_e{y_k}\n",
    "$$\n",
    "$t,y$は二乗和誤差と同じで、不正解ラベルのtは0なので、単純に正解ラベルの予測確立の自然対数$-\\log_e{y_{cerrect}}$  \n",
    "確率が最大($y_{cerrect}=1$)になると$\\log{1}=0$で損失関数が最小になる"
   ]
  },
  {
   "cell_type": "code",
   "execution_count": 113,
   "metadata": {},
   "outputs": [
    {
     "name": "stderr",
     "output_type": "stream",
     "text": [
      "/var/folders/hs/ztz399gn2s1gkzbjjfpyc5_w0000gn/T/ipykernel_3422/4058711112.py:2: RuntimeWarning: divide by zero encountered in log\n",
      "  y = (-1)*np.log(x)\n"
     ]
    },
    {
     "data": {
      "text/plain": [
       "Text(0, 0.5, 'value of loss function')"
      ]
     },
     "execution_count": 113,
     "metadata": {},
     "output_type": "execute_result"
    },
    {
     "data": {
      "image/png": "[encoded data removed]",
      "text/plain": [
       "<Figure size 640x480 with 1 Axes>"
      ]
     },
     "metadata": {},
     "output_type": "display_data"
    }
   ],
   "source": [
    "x = np.linspace(0,1,1000)\n",
    "y = (-1)*np.log(x)\n",
    "plt.scatter(x,y)\n",
    "plt.xlabel('predicted possiblity of correct label')\n",
    "plt.ylabel('value of loss function')"
   ]
  },
  {
   "cell_type": "code",
   "execution_count": 114,
   "metadata": {},
   "outputs": [],
   "source": [
    "def cross_entropy_error(pred,train):\n",
    "    pred=pred+(1e-7) #log0の計算にならないように微小な値を足しておく\n",
    "    return -np.sum(train*np.log(pred))"
   ]
  },
  {
   "cell_type": "markdown",
   "metadata": {},
   "source": [
    "ここまでの損失関数は、1つのデータ（数字当てなら1つの画像データ）をNNに食わせた時のk個の出力（数値当てなら0~9のそれぞれの確率と正解）に対するエラー。  \n",
    "実際にはデータがN個あることを考えると、それぞれのデータに対して損失関数の値を計算し、その平均を取った値で学習を進める。  \n",
    "$$\n",
    "E = \\frac{1}{N} \\sum\\limits_{n=1}^{N} E_n = \\frac{1}{N} \\sum\\limits_{n=1}^{N} \\sum\\limits_{k} t_{nk}\\log_e{y_{nk}}\n",
    "$$\n",
    "ここでの$y_{nk}$はn番目のデータに対するk番目のNN出力の値、$t_{nk}$はn番目のデータのk番目の正解ラベルを表す。"
   ]
  },
  {
   "cell_type": "markdown",
   "metadata": {},
   "source": [
    "ところで、Nが非常に大きい時の計算負荷が高くなってしまうことを避けるために、訓練データの中からランダムにp個を取得して、その平均を全データの損失関数だとみなして学習を進めるケースがままある。"
   ]
  },
  {
   "cell_type": "code",
   "execution_count": 122,
   "metadata": {},
   "outputs": [
    {
     "data": {
      "text/plain": [
       "(60000, 10)"
      ]
     },
     "execution_count": 122,
     "metadata": {},
     "output_type": "execute_result"
    }
   ],
   "source": [
    "y_train_oh = OneHotEncoder(sparse_output=False).fit_transform(y_train.reshape(-1, 1))\n",
    "y_train_oh.shape"
   ]
  },
  {
   "cell_type": "code",
   "execution_count": 129,
   "metadata": {},
   "outputs": [
    {
     "data": {
      "text/plain": [
       "60000"
      ]
     },
     "execution_count": 129,
     "metadata": {},
     "output_type": "execute_result"
    }
   ],
   "source": [
    "y_train.size"
   ]
  },
  {
   "cell_type": "code",
   "execution_count": 127,
   "metadata": {},
   "outputs": [
    {
     "data": {
      "text/plain": [
       "2"
      ]
     },
     "execution_count": 127,
     "metadata": {},
     "output_type": "execute_result"
    }
   ],
   "source": [
    "y_train_oh.ndim"
   ]
  },
  {
   "cell_type": "code",
   "execution_count": 361,
   "metadata": {},
   "outputs": [
    {
     "data": {
      "text/plain": [
       "array([-0.69314718, -2.30258509])"
      ]
     },
     "execution_count": 361,
     "metadata": {},
     "output_type": "execute_result"
    }
   ],
   "source": [
    "p = np.array(\n",
    "    [\n",
    "        (0.1,0.1,0.5,0.3),\n",
    "        (0.7,0.1,0.1,0.1),\n",
    "    ]\n",
    "    )\n",
    "t = np.array([2,3])\n",
    "if p.ndim==1:\n",
    "    p=p.reshape(1,p.size)\n",
    "    t=t.reshape(1,t.size)\n",
    "batch_size=p.shape[0]\n",
    "np.log(p[np.arange(batch_size),t])"
   ]
  },
  {
   "cell_type": "code",
   "execution_count": 366,
   "metadata": {},
   "outputs": [
    {
     "data": {
      "text/plain": [
       "4"
      ]
     },
     "execution_count": 366,
     "metadata": {},
     "output_type": "execute_result"
    }
   ],
   "source": [
    "p = np.array(\n",
    "    [\n",
    "        (0.1,0.1,0.5,0.3),\n",
    "        (0.7,0.1,0.1,0.1),\n",
    "    ]\n",
    "    )\n",
    "p.argmax()"
   ]
  },
  {
   "cell_type": "code",
   "execution_count": 362,
   "metadata": {},
   "outputs": [],
   "source": [
    "def cross_entropy_error(pred,train,onehot=False):\n",
    "    '''\n",
    "    pred  :NNの予測結果\n",
    "    train :教師ラベル\n",
    "    onehot:trainをone hot encodingデータで渡す場合はTrue\n",
    "    '''\n",
    "    if onehot: # one hot encodingの正解データが与えられた場合\n",
    "        # 1つのデータに対する出力が与えられた場合、(1,sample_size)の２次元配列に整形する\n",
    "        if pred.ndim == 1:\n",
    "            pred = pred.reshape(1,pred.size)\n",
    "            train = train.reshape(1,train.size)\n",
    "        batch_size = pred.shape[0]\n",
    "        # log0の計算にならないように微小な値を足しておく\n",
    "        loss = -np.sum(train*np.log(pred+(1e-7)))/batch_size\n",
    "    else: # 正解データとしてラベルデータが与えられた場合\n",
    "        if pred.ndim == 1:\n",
    "            pred = pred.reshape(1,pred.size)\n",
    "            train = train.reshape(1,train.size)\n",
    "        batch_size = pred.shape[0]\n",
    "        # 正解ラベル以外の計算は全て0になることを利用\n",
    "        loss = - np.sum(np.log(pred[np.arange(batch_size),train]+(1e-7)))/batch_size\n",
    "    return loss"
   ]
  },
  {
   "cell_type": "markdown",
   "metadata": {},
   "source": [
    "## 4.3 微分\n",
    "損失関数を使う理由は、損失関数を最小化する際に、微分の考え方が使えるから。  \n",
    "NNではシグモイド関数を活性化関数に採用して、損失関数で精度を確認していくことで、各パラメータ（重み、バイアス）を少し変えるだけでも出力や誤差が連続的に推移する。  \n",
    "そのため、パラメータを微小に変えた時の損失関数の変化（＝損失関数の微分）の正負によってパラメータをどう変えれば損失関数が低下するかを判断することができる。  \n",
    "損失関数ではなくAccuracyを使って学習しようとすると、パラメータに対して不連続に結果が変わってしまうこと、活性化関数にシグモイドではなくステップ関数を使うと0,1の離散データになってしまうことから、微分不可能になってしまう。  \n",
    "pythonで微分を実装する場合は、微分の定義に立ち返ってxを微小変化させた時の傾きを計算で求める。  \n",
    "このようにして求めることを数値微分(numeric differenciation)という。  \n",
    "$\\frac{dx^2}{dx} = 2x$のような数式転換による微分を解析的微分という。  \n",
    "$$\n",
    "微分の定義 : \\frac{df(x)}{dx} = \\lim_{h\\to\\infty} \\frac{f(x+h)-f(x)}{h}\n",
    "$$"
   ]
  },
  {
   "cell_type": "code",
   "execution_count": 135,
   "metadata": {},
   "outputs": [],
   "source": [
    "def numeric_diff(f,x):\n",
    "    h=1e-4 # 微小すぎると丸め誤差が発生する。ノウハウとして10^{-4}\n",
    "    return (f(x+h)-f(x-h)) / (2*h) # 前方差分よりも誤差が少ない中央差分をとる"
   ]
  },
  {
   "cell_type": "markdown",
   "metadata": {},
   "source": [
    "数値微分のテクニックとして、xとxから微小期間進んだ点の傾き（前方差分）よりも、  \n",
    "xを中心に、微小期間手前と微小期間進んだ点の傾き(中央差分)を取った方が解析的微分との誤差が少ない、ということがある。  \n",
    "以下に$y = f(x) = x^3 +x^2 + x$での例を示す。  \n",
    "解析的微分は言わずもがな$f'(x) = 3x^2+2x+1$である。"
   ]
  },
  {
   "cell_type": "code",
   "execution_count": 211,
   "metadata": {},
   "outputs": [
    {
     "data": {
      "text/plain": [
       "Text(0.5, 1.0, '解析的微分')"
      ]
     },
     "execution_count": 211,
     "metadata": {},
     "output_type": "execute_result"
    },
    {
     "data": {
      "image/png": "[encoded data removed]",
      "text/plain": [
       "<Figure size 1000x500 with 2 Axes>"
      ]
     },
     "metadata": {},
     "output_type": "display_data"
    }
   ],
   "source": [
    "def f(x):\n",
    "    return x**3 + x**2 + x\n",
    "def f_anal_diff(x):\n",
    "    return 3*x**2 + 2*x + 1\n",
    "\n",
    "x = np.linspace(-5,5,1000)\n",
    "y = f(x)\n",
    "\n",
    "h=.05 # 微小期間(わかりやすさのためあえて大きい数値を使っている。)\n",
    "x_center=2 # x=2の周辺で微分を行う\n",
    "y_center = f(x_center) # x=2の時のy座標\n",
    "\n",
    "diff_center = (f(x_center+h)-f(x_center-h)) / (2*h)\n",
    "diff_front =  (f(x_center)-f(x_center-h)) / (h)\n",
    "analitic_diff = f_anal_diff(x_center)\n",
    "\n",
    "diff = [diff_front,diff_center,analitic_diff]\n",
    "labels = ['前方微分','中心微分','解析的微分']\n",
    "\n",
    "fig,axes = plt.subplots(1,2,figsize=(10,5),tight_layout=True)\n",
    "\n",
    "axes[0].plot(x,y,c='gray',label = 'y=x^2+x')\n",
    "axes[0].scatter(x_center,y_center,c='black',label = '接点')\n",
    "axes[0].plot(x,diff[0]*(x-x_center)+y_center,c='blue',label=f'{labels[0]}:傾き{np.max(diff[0]):.2f}')\n",
    "axes[0].plot(x,diff[1]*(x-x_center)+y_center,c='magenta',label=f'{labels[1]}:傾き{np.max(diff[1]):.2f}')\n",
    "axes[0].set_xlim(-5,5)\n",
    "axes[0].legend(loc='best')\n",
    "axes[0].set_title('前方 vs 中心')\n",
    "\n",
    "axes[1].plot(x,y,c='gray',label = 'y=x^2+x')\n",
    "axes[1].scatter(x_center,y_center,c='black',label = '接点')\n",
    "axes[1].plot(x,diff[2]*(x-x_center)+y_center,c='green',label=f'{labels[2]}:傾き{np.max(diff[2]):.2f}')\n",
    "axes[1].set_xlim(-5,5)\n",
    "axes[1].legend(loc='best')\n",
    "axes[1].set_title('解析的微分')"
   ]
  },
  {
   "cell_type": "markdown",
   "metadata": {},
   "source": [
    "## 4.3 勾配\n",
    "変数が複数ある関数の微分は、対象とする1つの変数以外を定数とみなして、その1つの変数に対する微分を行う。これを偏微分という。  \n",
    "$$\n",
    "\\begin{align}\n",
    "f(x_0,x_1)=x_0^2 + x_1^2 \\\\\n",
    "x_0に対する偏微分:\\frac{\\partial{f}}{\\partial{x_0}}=2x_0 \\\\\n",
    "x_1に対する偏微分:\\frac{\\partial{f}}{\\partial{x_1}}=2x_1\n",
    "\\end{align}\n",
    "$$\n",
    "変数がn個ある関数のそれぞれの変数に対する偏微分をベクトルとしてまとめたものを<ins>**勾配**</ins>という。\n",
    "$$\n",
    "f(x_0,x_1)の勾配=\\bigg( \\frac{\\partial{f}}{\\partial{x_0}},\\frac{\\partial{f}}{\\partial{x_1}} \\bigg)\n",
    "$$\n",
    "試しに、以下の実装をしてみる  \n",
    "$$\n",
    "\\begin{align}\n",
    "y = f(x_0,x_1)=x_0^2 + x_1^2 \\\\\n",
    "x_0 = 3, x_1 = 4の時の勾配\n",
    "\\end {align}\n",
    "$$\n"
   ]
  },
  {
   "cell_type": "code",
   "execution_count": 239,
   "metadata": {},
   "outputs": [],
   "source": [
    "def f(x):\n",
    "    return x[0]**2 + x[1]**2\n",
    "\n",
    "def numeric_gradient(f,x):\n",
    "    # x_0に対する偏微分ではx_1を固定し、x_0-hとx_0+hの差異を求める\n",
    "    h=1\n",
    "    gradient = np.zeros_like(x)\n",
    "\n",
    "    for i in range(x.size):\n",
    "        org_val = x[i]\n",
    "        x[i] = org_val - h\n",
    "        fxh_under = f(x)\n",
    "        x[i] = org_val + h\n",
    "        fxh_above = f(x)\n",
    "        gradient[i] = (fxh_above-fxh_under)/(2*h)\n",
    "        x[i] = org_val\n",
    "    return gradient\n",
    "\n",
    "    # for i in range(x.size):\n",
    "    #     x_un, x_ab = np.copy(x), np.copy(x)\n",
    "    #     print(x_ab,x_un)\n",
    "    #     x_un[i] = x[i] - h\n",
    "    #     print(x_ab,x_un)\n",
    "    #     x_ab[i] = x[i] + h\n",
    "    #     print(x_ab,x_un)\n",
    "    #     gradient[i] = (f(x_ab)-f(x_un))/(2*h)\n",
    "    # return gradient"
   ]
  },
  {
   "cell_type": "code",
   "execution_count": 240,
   "metadata": {},
   "outputs": [
    {
     "name": "stdout",
     "output_type": "stream",
     "text": [
      "[6. 8.]\n"
     ]
    }
   ],
   "source": [
    "x = np.array([3.0,4.0])\n",
    "g = numeric_gradient(f,x)\n",
    "print(g)"
   ]
  },
  {
   "cell_type": "markdown",
   "metadata": {},
   "source": [
    "### 重要：勾配とは？\n",
    "勾配(のベクトルにマイナスをつけた出力ベクトル)は**各地点**$(x_0,x_1)$**において**$f(x_0,x_1)$を**最も小さくする**$x_0,x_1$の**方向**を指す。  \n",
    "**その方向が関数の最小値に向かっているとは限らないので注意！**  \n",
    "少なくともその地点においては、その方向に進むことで関数の値が一番小さくなる、というだけで、真の最小値はそのほかにある可能性は残る。  \n",
    "以下は$y=x_0^2 + x_1^2$について、いくつかの$(x_0,x_1)$に対する勾配のマイナスベクトルを図示した。  \n",
    "コードは公式リポジトリから拝借"
   ]
  },
  {
   "cell_type": "code",
   "execution_count": 242,
   "metadata": {},
   "outputs": [
    {
     "data": {
      "image/png": "[encoded data removed]",
      "text/plain": [
       "<Figure size 640x480 with 1 Axes>"
      ]
     },
     "metadata": {},
     "output_type": "display_data"
    }
   ],
   "source": [
    "def _numerical_gradient_no_batch(f, x):\n",
    "    h = 1e-4  # 0.0001\n",
    "    grad = np.zeros_like(x)\n",
    "    \n",
    "    for idx in range(x.size):\n",
    "        tmp_val = x[idx]\n",
    "        x[idx] = float(tmp_val) + h\n",
    "        fxh1 = f(x)  # f(x+h)\n",
    "        \n",
    "        x[idx] = tmp_val - h \n",
    "        fxh2 = f(x)  # f(x-h)\n",
    "        grad[idx] = (fxh1 - fxh2) / (2*h)\n",
    "        \n",
    "        x[idx] = tmp_val  # 値を元に戻す\n",
    "        \n",
    "    return grad\n",
    "\n",
    "\n",
    "def numerical_gradient(f, X):\n",
    "    if X.ndim == 1:\n",
    "        return _numerical_gradient_no_batch(f, X)\n",
    "    else:\n",
    "        grad = np.zeros_like(X)\n",
    "        \n",
    "        for idx, x in enumerate(X):\n",
    "            grad[idx] = _numerical_gradient_no_batch(f, x)\n",
    "        \n",
    "        return grad\n",
    "\n",
    "x0 = np.arange(-2, 2.5, 0.25)\n",
    "x1 = np.arange(-2, 2.5, 0.25)\n",
    "X, Y = np.meshgrid(x0, x1)\n",
    "\n",
    "X = X.flatten()\n",
    "Y = Y.flatten()\n",
    "\n",
    "grad = numerical_gradient(f, np.array([X, Y]).T).T\n",
    "\n",
    "plt.figure()\n",
    "plt.quiver(X, Y, -grad[0], -grad[1],  angles=\"xy\",color=\"#666666\")\n",
    "plt.xlim([-2, 2])\n",
    "plt.ylim([-2, 2])\n",
    "plt.xlabel('x0')\n",
    "plt.ylabel('x1')\n",
    "plt.grid()\n",
    "plt.draw()\n",
    "plt.show()\n"
   ]
  },
  {
   "cell_type": "markdown",
   "metadata": {},
   "source": [
    "## 4.4.1 勾配法\n",
    "ニューラルネットワークの学習は、損失関数の値が最小になるようにパラメータ(隠し層ごと、ニューロンごとの重みとバイアス)をいじりながら進んでいく。  \n",
    "あるパラメータを使った時、さらに損失関数を小さくするには次にどうすればいいか？を、そのパラメータに対する勾配を計算することで導いていく。  \n",
    "具体的には、以下のステップ。  \n",
    "↓あるパラメータセットに対する損失関数の勾配を求める  \n",
    "↓その勾配の方向に従ってパラメータセットを一定の距離更新して、損失関数を求める  \n",
    "↓上記を繰り返して勾配が0になったら学習完了  \n",
    "勾配を利用して、関数の最小値を目指す方法を<ins>**勾配降下法(gradient descent method)**</ins>  \n",
    "逆に最大を目指す方法を<ins>**勾配上昇法(gradient ascent method)**</ins>という。"
   ]
  },
  {
   "cell_type": "markdown",
   "metadata": {},
   "source": [
    "$$\n",
    "購買降下法を用いたパラメータ更新式 = \\Bigg \\lbrace\n",
    "  \\begin{aligned}\n",
    "  x_0 = x_0 - η \\frac{\\partial f}{\\partial x_0} \\\\\n",
    "  x_1 = x_1 - η \\frac{\\partial f}{\\partial x_1}\n",
    "  \\end{aligned}\n",
    "$$  \n",
    "ηは学習率(learning rate)と呼ばれ、勾配法のパラメータ。\n",
    "大きすぎても小さすぎてもよくなく、実際はいじりながら学習が正しいかを確認していく。"
   ]
  },
  {
   "cell_type": "code",
   "execution_count": 294,
   "metadata": {},
   "outputs": [],
   "source": [
    "def gradient_desc(\n",
    "    f,              # 目的関数\n",
    "    init_x,         # パラメータの初期値\n",
    "    lr=0.01,        # 学習率\n",
    "    step_num=100    # パラメータの更新回数\n",
    "    ):\n",
    "    x = np.copy(init_x)\n",
    "    for i in range(step_num):\n",
    "        grad = numeric_gradient(f,x)\n",
    "        x -= lr*grad\n",
    "    return x\n",
    "\n",
    "def gradient_desc_with_vis(\n",
    "    f,              # 目的関数\n",
    "    init_x,         # パラメータの初期値\n",
    "    ax,\n",
    "    lr=0.01,        # 学習率\n",
    "    step_num=100,   # パラメータの更新回数\n",
    "    ):\n",
    "    x = np.copy(init_x)\n",
    "    ax.scatter(x[0],x[1],marker='*',c='blue',s=20,label='start')\n",
    "    for i in range(step_num):\n",
    "        grad = numeric_gradient(f,x)\n",
    "        x -= lr*grad\n",
    "        ax.scatter(x[0],x[1],marker='o',c='gray',alpha=.5,s=10)\n",
    "    ax.scatter(x[0],x[1],marker='*',c='magenta',s=20,label = 'end')\n",
    "\n",
    "    ax.set_xlim(-abs(init_x[0])*1.1,abs(init_x[0])*1.1)\n",
    "    ax.set_ylim(-abs(init_x[1])*1.1,abs(init_x[1])*1.1)\n",
    "    return x"
   ]
  },
  {
   "cell_type": "code",
   "execution_count": 292,
   "metadata": {},
   "outputs": [
    {
     "data": {
      "text/plain": [
       "<matplotlib.legend.Legend at 0x2d841a890>"
      ]
     },
     "execution_count": 292,
     "metadata": {},
     "output_type": "execute_result"
    },
    {
     "data": {
      "image/png": "[encoded data removed]",
      "text/plain": [
       "<Figure size 640x480 with 1 Axes>"
      ]
     },
     "metadata": {},
     "output_type": "display_data"
    }
   ],
   "source": [
    "def function(x):\n",
    "    return x[0]**2 + x[1]**2\n",
    "\n",
    "def numeric_gradient(f,x):\n",
    "    # x_0に対する偏微分ではx_1を固定し、x_0-hとx_0+hの差異を求める\n",
    "    h=1\n",
    "    gradient = np.zeros_like(x)\n",
    "\n",
    "    for i in range(x.size):\n",
    "        org_val = x[i]\n",
    "        x[i] = org_val - h\n",
    "        fxh_under = f(x)\n",
    "        x[i] = org_val + h\n",
    "        fxh_above = f(x)\n",
    "        gradient[i] = (fxh_above-fxh_under)/(2*h)\n",
    "        x[i] = org_val\n",
    "    return gradient\n",
    "\n",
    "init_x = np.array([-3.0,4.0])\n",
    "fig,ax=plt.subplots(1,1)\n",
    "gradient_desc_with_vis(f=function,init_x=init_x,lr=0.1,step_num=100,ax=ax)\n",
    "ax.set_title('学習率0.1')\n",
    "ax.legend(loc='best')"
   ]
  },
  {
   "cell_type": "code",
   "execution_count": 317,
   "metadata": {},
   "outputs": [
    {
     "data": {
      "image/png": "[encoded data removed]",
      "text/plain": [
       "<Figure size 1200x400 with 3 Axes>"
      ]
     },
     "metadata": {},
     "output_type": "display_data"
    }
   ],
   "source": [
    "fig,axes = plt.subplots(ncols=3,figsize=(12,4),tight_layout=True)\n",
    "learning_rates = [1.005,.1,.001]\n",
    "\n",
    "for ax, lr in zip(axes,learning_rates):\n",
    "    gradient_desc_with_vis(f=function,init_x=init_x,lr=lr,step_num=100,ax=ax)\n",
    "    ax.set_title(f'学習率 : {lr}')\n",
    "    ax.legend(loc='best')\n",
    "    ax.set_xlim(-15,15)\n",
    "    ax.set_ylim(-15,15)\n",
    "    ax.axvline(0,c='gray',alpha=0.1)\n",
    "    ax.axhline(0,c='gray',alpha=0.1)"
   ]
  },
  {
   "cell_type": "markdown",
   "metadata": {},
   "source": [
    "重み、バイアスはNNのパラメータであるのに対して、NNのパラメータを探し出すための計算に必要な学習率はハイパーパラメータという"
   ]
  },
  {
   "cell_type": "markdown",
   "metadata": {},
   "source": [
    "NNの損失関数の勾配を求めてみる。\n",
    "単純のために、２つの入力に対して隠し層なし、バイアスなしの3つの出力層のNNを考える。\n",
    "$$\n",
    "\\begin{align}\n",
    "  X(input)&=(x_1, x_2) \\\\\n",
    "\n",
    "  W(weight) &=\n",
    "    \\begin{pmatrix}\n",
    "      w_{11} & w_{12} & w_{13} \\\\\n",
    "      w_{21} & w_{22} & w_{23}\n",
    "    \\end{pmatrix} \\\\\n",
    "\n",
    "  Y(output) &= ((x_1w_{11}+x_2w_{21}), (x_1w_{12}+x_2w_{22}), (x_1w_{13}+x_2w_{23})) \\\\\n",
    "\n",
    "  gradient &= \\frac{\\partial Loss}{\\partial W} =\n",
    "    \\begin{pmatrix}\n",
    "      \\frac{\\partial L}{\\partial {w_{11}}} & \\frac{\\partial L}{\\partial {w_{12}}} & \\frac{\\partial L}{\\partial {w_{13}}} \\\\\n",
    "      \\frac{\\partial L}{\\partial {w_{21}}} & \\frac{\\partial L}{\\partial {w_{22}}} & \\frac{\\partial L}{\\partial {w_{23}}}\n",
    "    \\end{pmatrix} \\\\\n",
    "\n",
    "\\end{align}\n",
    "$$"
   ]
  },
  {
   "cell_type": "code",
   "execution_count": 367,
   "metadata": {},
   "outputs": [],
   "source": [
    "def softmax(a):\n",
    "    exp_a = np.exp(a)\n",
    "    sum_exp_a = np.sum(exp_a)\n",
    "    return exp_a / sum_exp_a\n",
    "\n",
    "def cross_entropy_error(p,t):\n",
    "    if p.ndim == 1:\n",
    "        p = p.reshape(1,p.size)\n",
    "        t = t.reshape(1,t.size)\n",
    "\n",
    "    if p.size == t.size: # one hotの場合ラベルに変換\n",
    "        t = t.argmax(axis=1)\n",
    "\n",
    "    batch_size = p.shape[0]\n",
    "\n",
    "    # 正解ラベル以外の計算は全て0になることを利用\n",
    "    return -np.sum(np.log(p[np.arange(batch_size),t]+(1e-7)))/batch_size\n",
    "\n",
    "def numerical_gradient(f, x):\n",
    "    h = 1e-4 # 0.0001\n",
    "    grad = np.zeros_like(x)\n",
    "\n",
    "    it = np.nditer(x, flags=['multi_index'], op_flags=['readwrite'])\n",
    "    while not it.finished:\n",
    "        idx = it.multi_index\n",
    "        tmp_val = x[idx]\n",
    "        x[idx] = tmp_val + h\n",
    "        fxh1 = f(x) # f(x+h)\n",
    "\n",
    "        x[idx] = tmp_val - h \n",
    "        fxh2 = f(x) # f(x-h)\n",
    "        grad[idx] = (fxh1 - fxh2) / (2*h)\n",
    "\n",
    "        x[idx] = tmp_val # 値を元に戻す\n",
    "        it.iternext()\n",
    "\n",
    "    return grad\n",
    "\n",
    "class SimpleNet():\n",
    "    def __init__(self):\n",
    "        self.W = np.random.randn(2,3) #初期パラメータはガウス分布で初期化する\n",
    "\n",
    "    def predict(self,x):\n",
    "        return np.dot(x,self.W)\n",
    "\n",
    "    def loss(self,x,train):\n",
    "        output = self.predict(x)\n",
    "        pred = softmax(output)\n",
    "        return cross_entropy_error(pred,train)"
   ]
  },
  {
   "cell_type": "code",
   "execution_count": 369,
   "metadata": {},
   "outputs": [
    {
     "name": "stdout",
     "output_type": "stream",
     "text": [
      "重み\n",
      "[[ 1.76405235  0.40015721  0.97873798]\n",
      " [ 2.2408932   1.86755799 -0.97727788]]\n",
      "入力\n",
      "[4 9]\n",
      "出力\n",
      "[27.22424818 18.40865074 -4.88054898]\n",
      "正解は2で予測値は0\n",
      "損失関数の出力は16.12\n"
     ]
    }
   ],
   "source": [
    "np.random.seed(0)\n",
    "net = SimpleNet()\n",
    "x = np.array([4,9])\n",
    "t= np.array([0,0,1])\n",
    "p=net.predict(x)\n",
    "loss_val=net.loss(x,t)\n",
    "\n",
    "print('重み')\n",
    "print(net.W)\n",
    "print('入力')\n",
    "print(x)\n",
    "print('出力')\n",
    "print(net.predict(x))\n",
    "print(f'正解は{np.argmax(train)}で予測値は{np.argmax(pred)}')\n",
    "print(f'損失関数の出力は{loss_val:.2f}')"
   ]
  },
  {
   "cell_type": "code",
   "execution_count": 373,
   "metadata": {},
   "outputs": [
    {
     "data": {
      "text/plain": [
       "array([[ 4.56026328e-07,  7.10542736e-11, -4.56097382e-07],\n",
       "       [ 1.02607700e-06,  1.59872116e-10, -1.02621911e-06]])"
      ]
     },
     "execution_count": 373,
     "metadata": {},
     "output_type": "execute_result"
    }
   ],
   "source": [
    "# def f(W):\n",
    "#     return net.loss(x,t)\n",
    "\n",
    "f = lambda W: net.loss(x,t)\n",
    "\n",
    "dW = numerical_gradient(f,net.W)\n",
    "dW"
   ]
  },
  {
   "cell_type": "markdown",
   "metadata": {},
   "source": [
    "$\\frac{\\partial{L}}{\\partial{w_{xy}}}$は、$w_xy$を$h$増加させると損失関数の値は$h \\times \\frac{\\partial{L}}{\\partial{w_{xy}}}$だけ**増加する**ことを表す。  \n",
    "今は**減少**させたいので、この値をマイナス方向に更新していく・"
   ]
  },
  {
   "cell_type": "markdown",
   "metadata": {},
   "source": [
    "## 4.5 実装！"
   ]
  },
  {
   "cell_type": "markdown",
   "metadata": {},
   "source": [
    "ここまでの復習  \n",
    "ニューラルネットワークでは、重みとバイアスというパラメータがある。  \n",
    "学習とは、訓練データを用いて、入力が適切な出力になるようにパラメータを最適化させることをいう。  \n",
    "学習の過程は以下の通り。  \n",
    "1. ミニバッチ  \n",
    "訓練データ全体からランダムに適当なデータを取得する。  \n",
    "取得したデータに対する損失関数を最小化するという方針。  \n",
    "1. 勾配の算出  \n",
    "各パラメータについて勾配を計算する  \n",
    "1. パラメータの更新  \n",
    "算出されたパラメータごとの勾配に基づいて、微少量パラメータを動かす  \n",
    "1. 上記をくりかえす  \n",
    "\n",
    "上記のように、全データから確率的にいくつか選んで勾配降下法を行うことを、確率的勾配降下法という。  \n",
    "Stochastic Gradient Descentの頭文字をとって、SGDと呼ばれる  \n",
    "\n",
    "---\n",
    "\n",
    "実装は、隠れ層1＋出力層の計2層のNNで行う"
   ]
  },
  {
   "cell_type": "code",
   "execution_count": 374,
   "metadata": {},
   "outputs": [],
   "source": [
    "from common.functions import *\n",
    "from common.gradient import numerical_gradient\n",
    "\n",
    "class TwoLayerNet(object):\n",
    "    def __init__(\n",
    "        self,\n",
    "        imput_size,\n",
    "        hidden_size,\n",
    "        output_size,\n",
    "        weight_init_std = 0.01,\n",
    "        ):\n",
    "\n",
    "        # 重み初期化\n",
    "        self.params = {}\n",
    "        self.params['W1'] = weight_init_std * np.random.randn(imput_size,hidden_size)\n",
    "        self.params['b1'] = np.zeros(hidden_size)\n",
    "        self.params['W2'] = weight_init_std * np.random.randn(hidden_size,output_size)\n",
    "        self.params['b2'] = np.zeros(output_size)\n",
    "\n",
    "    def predict(self,x):\n",
    "        W1,W2 = self.params['W1'],self.params['W2']\n",
    "        b1,b2 = self.params['b1'],self.params['b2']\n",
    "        a1 = np.dot(x,self.params['W1']) + b1\n",
    "        z1 = sigmoid(a1)\n",
    "        a2 = np.dot(z1,W2) + b2\n",
    "        return softmax(a2)\n",
    "\n",
    "    def loss(self, x, t):\n",
    "        y = self.predict(x)\n",
    "        return cross_entropy_error(y, t)\n",
    "\n",
    "    def accuracy(self, x, t):\n",
    "        sample_size = x.shape[0]\n",
    "        y = self.predict(x)\n",
    "        y = np.argmax(y,axis=1)\n",
    "        t = np.argmax(t,axis=1)\n",
    "        return np.sum(y==t)/sample_size\n",
    "\n",
    "    def numerical_gradient(self, x, t):\n",
    "        loss_W = lambda W: self.loss(x, t)\n",
    "        grads = {}\n",
    "        # それぞれのパラメータに対して勾配を計算する。\n",
    "        grads['W1'] = numerical_gradient(loss_W,self.params['W1'])\n",
    "        grads['b2'] = numerical_gradient(loss_W,self.params['b2'])\n",
    "        grads['W1'] = numerical_gradient(loss_W,self.params['W1'])\n",
    "        grads['b2'] = numerical_gradient(loss_W,self.params['b2'])\n",
    "        return grads"
   ]
  },
  {
   "cell_type": "code",
   "execution_count": 383,
   "metadata": {},
   "outputs": [],
   "source": [
    "with open('./mnist/mnist.pkl', 'rb') as f:\n",
    "    dataset =pickle.load(f)\n",
    "dataset['train_label'] = OneHotEncoder(sparse_output=False).fit_transform(dataset['train_label'].reshape(-1, 1))\n",
    "dataset['train_img'] = dataset['train_img'] / 255\n",
    "dataset['test_label'] = OneHotEncoder(sparse_output=False).fit_transform(dataset['test_label'].reshape(-1, 1))\n",
    "dataset['test_img'] = dataset['test_img'] / 255"
   ]
  }
 ],
 "metadata": {
  "kernelspec": {
   "display_name": ".venv",
   "language": "python",
   "name": "python3"
  },
  "language_info": {
   "codemirror_mode": {
    "name": "ipython",
    "version": 3
   },
   "file_extension": ".py",
   "mimetype": "text/x-python",
   "name": "python",
   "nbconvert_exporter": "python",
   "pygments_lexer": "ipython3",
   "version": "3.10.11"
  },
  "orig_nbformat": 4
 },
 "nbformat": 4,
 "nbformat_minor": 2
}
