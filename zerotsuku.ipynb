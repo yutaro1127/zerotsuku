{
 "cells": [
  {
   "cell_type": "code",
   "execution_count": 24,
   "metadata": {},
   "outputs": [],
   "source": [
    "import numpy as np\n",
    "import pandas as pd\n",
    "from matplotlib import pyplot as plt\n",
    "import sys\n",
    "import os\n",
    "from PIL import Image\n",
    "from sklearn.preprocessing import StandardScaler"
   ]
  },
  {
   "cell_type": "code",
   "execution_count": null,
   "metadata": {},
   "outputs": [],
   "source": [
    "import urllib.request\n",
    "import gzip\n",
    "import numpy as np\n",
    "import pickle\n",
    "\n",
    "\n",
    "url_base = 'http://yann.lecun.com/exdb/mnist/'\n",
    "key_file = {\n",
    "    'train_img':'train-images-idx3-ubyte.gz',\n",
    "    'train_label':'train-labels-idx1-ubyte.gz',\n",
    "    'test_img':'t10k-images-idx3-ubyte.gz',\n",
    "    'test_label':'t10k-labels-idx1-ubyte.gz'\n",
    "}\n",
    "dataset_dir = './mnist'    #データを保存する場所\n",
    "\n",
    "for v in key_file.values():\n",
    "    file_path = dataset_dir + '/' + v\n",
    "    urllib.request.urlretrieve(url_base + v, file_path)\n",
    "\n",
    "def load_img(file_name):\n",
    "    file_path = dataset_dir + '/' + file_name\n",
    "    with gzip.open(file_path, 'rb') as f:\n",
    "        data = np.frombuffer(f.read(), np.uint8, offset=16)\n",
    "    data = data.reshape(-1, 784)\n",
    "\n",
    "    return data\n",
    "\n",
    "def load_label(file_name):\n",
    "    file_path = dataset_dir + '/' + file_name\n",
    "    with gzip.open(file_path, 'rb') as f:\n",
    "        labels = np.frombuffer(f.read(), np.uint8, offset=8)\n",
    "\n",
    "    return labels\n",
    "\n",
    "dataset = {}\n",
    "dataset['train_img'] = load_img(key_file['train_img'])\n",
    "dataset['train_label'] = load_label(key_file['train_label'])\n",
    "dataset['test_img'] = load_img(key_file['test_img'])\n",
    "dataset['test_label'] = load_label(key_file['test_label'])\n",
    "\n",
    "save_file = dataset_dir + '/mnist.pkl'    #拡張子は.pkl\n",
    "with open(save_file, 'wb') as f:\n",
    "    pickle.dump(dataset, f, -1)    #-1は最も高いプロトコルバージョンで保存することを指定している\n"
   ]
  },
  {
   "cell_type": "code",
   "execution_count": null,
   "metadata": {},
   "outputs": [],
   "source": []
  },
  {
   "cell_type": "markdown",
   "metadata": {},
   "source": [
    "## 2.3　パーセプトロンの実装  \n",
    "* パーセプトロンとは、複数の0,1入力をもとに1つの0,1出力を返すアルゴリズムのこと"
   ]
  },
  {
   "cell_type": "code",
   "execution_count": 1,
   "metadata": {},
   "outputs": [],
   "source": [
    "def AND(x1,x2):\n",
    "    w1, w2, theta = .5, .5, .7\n",
    "    tmp = x1 * w1 + x2 * w2 - theta\n",
    "    if tmp <= 0:\n",
    "        return 0\n",
    "    elif tmp > 0:\n",
    "        return 1"
   ]
  },
  {
   "cell_type": "code",
   "execution_count": 3,
   "metadata": {},
   "outputs": [
    {
     "name": "stdout",
     "output_type": "stream",
     "text": [
      "0\n",
      "1\n",
      "0\n",
      "0\n"
     ]
    }
   ],
   "source": [
    "print(AND(0,0))\n",
    "print(AND(1,1))\n",
    "print(AND(1,0))\n",
    "print(AND(0,1))"
   ]
  },
  {
   "cell_type": "markdown",
   "metadata": {},
   "source": [
    "* 重みとバイアスを導入。行列式の形にする"
   ]
  },
  {
   "cell_type": "markdown",
   "metadata": {},
   "source": [
    "2つの入力値$x_1,x_2$について、それぞれに対応する重み$w_1, w_2$をかけた和とバイアス($b$)の大小で出力を判断する。  \n",
    "$$\n",
    "y=\n",
    "\\left\\{\n",
    "\\begin{array}{ll}\n",
    "0 & (b + w_1 x_1 + w_2 x_2) \\leqq 0 \\\\\n",
    "1 & (b + w_1 x_1 + w_2 x_2) > 0\n",
    "\\end{array}\n",
    "\\right.\n",
    "$$"
   ]
  },
  {
   "cell_type": "code",
   "execution_count": 13,
   "metadata": {},
   "outputs": [],
   "source": [
    "def AND(x1, x2):\n",
    "    x = np.array([x1, x2])\n",
    "    w = np.array([.5, .5])\n",
    "    b = -.7\n",
    "    tmp = b + np.sum(x * w)\n",
    "    if tmp <= 0:\n",
    "        return 0\n",
    "    elif tmp > 0:\n",
    "        return 1"
   ]
  },
  {
   "cell_type": "code",
   "execution_count": 14,
   "metadata": {},
   "outputs": [
    {
     "name": "stdout",
     "output_type": "stream",
     "text": [
      "[0, 0] -> 0\n",
      "[0, 1] -> 0\n",
      "[1, 0] -> 0\n",
      "[1, 1] -> 1\n"
     ]
    }
   ],
   "source": [
    "for m in range(2):\n",
    "    for n in range(2):\n",
    "        print(f'{[m,n]} -> {AND(m,n)}')"
   ]
  },
  {
   "cell_type": "markdown",
   "metadata": {},
   "source": [
    "- 重み$w_n$は対応する入力値$x_n$それぞれの重要度を制御  \n",
    "- バイアス$b$はそのニューロンの発火しやすさを制御"
   ]
  },
  {
   "cell_type": "code",
   "execution_count": 23,
   "metadata": {},
   "outputs": [
    {
     "name": "stdout",
     "output_type": "stream",
     "text": [
      "NAND\n",
      "[0, 0] -> 1\n",
      "[0, 1] -> 1\n",
      "[1, 0] -> 1\n",
      "[1, 1] -> 0\n"
     ]
    }
   ],
   "source": [
    "def NAND(x1, x2):\n",
    "    x = np.array([x1, x2])\n",
    "    w = np.array([-.5, -.5])\n",
    "    b = .7\n",
    "    tmp = b + np.sum(x * w)\n",
    "    if tmp <= 0:\n",
    "        return 0\n",
    "    elif tmp > 0:\n",
    "        return 1\n",
    "\n",
    "print('NAND')\n",
    "for m in range(2):\n",
    "    for n in range(2):\n",
    "        print(f'{[m,n]} -> {NAND(m,n)}')"
   ]
  },
  {
   "cell_type": "code",
   "execution_count": 33,
   "metadata": {},
   "outputs": [
    {
     "name": "stdout",
     "output_type": "stream",
     "text": [
      "NAND\n",
      "[0, 0] -> 0\n",
      "[0, 1] -> 1\n",
      "[1, 0] -> 1\n",
      "[1, 1] -> 1\n"
     ]
    }
   ],
   "source": [
    "def OR(x1, x2):\n",
    "    x = np.array([x1, x2])\n",
    "    w = np.array([.5, .5])\n",
    "    b = -.2\n",
    "    tmp = b + np.sum(x * w)\n",
    "    if tmp <= 0:\n",
    "        return 0\n",
    "    elif tmp > 0:\n",
    "        return 1\n",
    "\n",
    "print('NAND')\n",
    "for m in range(2):\n",
    "    for n in range(2):\n",
    "        print(f'{[m,n]} -> {OR(m,n)}')"
   ]
  },
  {
   "cell_type": "markdown",
   "metadata": {},
   "source": [
    "* XOR:排他的論理和  \n",
    "これは線型のパーセプトロンでは実装できない\n",
    "\n",
    "| $x_1$ | $x_2$ | $y$ |  \n",
    "| :---: | :---: | :---: |  \n",
    "| 0 | 0 | 0 |  \n",
    "| 1 | 0 | 1 |  \n",
    "| 0 | 1 | 1 |  \n",
    "| 1 | 1 | 0 |  "
   ]
  },
  {
   "cell_type": "code",
   "execution_count": 56,
   "metadata": {},
   "outputs": [
    {
     "data": {
      "text/plain": [
       "<matplotlib.legend.Legend at 0x121b8d6f0>"
      ]
     },
     "execution_count": 56,
     "metadata": {},
     "output_type": "execute_result"
    },
    {
     "data": {
      "image/png": "[encoded data removed]",
      "text/plain": [
       "<Figure size 640x480 with 1 Axes>"
      ]
     },
     "metadata": {},
     "output_type": "display_data"
    }
   ],
   "source": [
    "plt.xlim([-1,2])\n",
    "plt.ylim([-1,2])\n",
    "plt.hlines(y=0,xmin=-5,xmax=5,colors='gray')\n",
    "plt.vlines(x=0,ymin=-5,ymax=5,colors='gray')\n",
    "plt.scatter(x=[0,1],y=[0,1],marker='^',s=100,label='0')\n",
    "plt.scatter(x=[0,1],y=[1,0],marker='o',s=100,label='1')\n",
    "plt.legend(loc='best')\n"
   ]
  },
  {
   "cell_type": "markdown",
   "metadata": {},
   "source": [
    "* 上の図で、三角(出力が0)と丸(出力が1)を分ける直線が引けない"
   ]
  },
  {
   "cell_type": "markdown",
   "metadata": {},
   "source": [
    "### 多層パーセプトロン\n",
    "* パーセプトロンを組み合わせることで非線形の分離を実装可能  "
   ]
  },
  {
   "cell_type": "code",
   "execution_count": 63,
   "metadata": {},
   "outputs": [
    {
     "name": "stdout",
     "output_type": "stream",
     "text": [
      "XOR\n",
      "[0, 0] -> AND:0, NAND:1, OR:0, XOR:0\n",
      "[0, 1] -> AND:0, NAND:1, OR:1, XOR:1\n",
      "[1, 0] -> AND:0, NAND:1, OR:1, XOR:1\n",
      "[1, 1] -> AND:1, NAND:0, OR:1, XOR:0\n"
     ]
    }
   ],
   "source": [
    "def XOR(x1,x2):\n",
    "    s1 = OR(x1,x2)\n",
    "    s2 = NAND(x1,x2)\n",
    "    y = AND(s1,s2)\n",
    "    return y\n",
    "\n",
    "print('XOR')\n",
    "for m in range(2):\n",
    "    for n in range(2):\n",
    "        print(f'{[m,n]} -> AND:{AND(m,n)}, NAND:{NAND(m,n)}, OR:{OR(m,n)}, XOR:{XOR(m,n)}')"
   ]
  },
  {
   "cell_type": "markdown",
   "metadata": {},
   "source": [
    "* 線型なパーセプトロンでも多層にすることで非線形な表現が可能。\n",
    "* でも今のところ、パラメータ(重みやバイアス)の値は人間が期待する出力に合わせて調整している\n",
    "* 最適なパラメータをデータから学習させることを考える"
   ]
  },
  {
   "cell_type": "markdown",
   "metadata": {},
   "source": [
    "### ニューラルネットワーク"
   ]
  },
  {
   "cell_type": "markdown",
   "metadata": {},
   "source": [
    "$$\n",
    "y=\n",
    "\\left\\{\n",
    "\\begin{array}{ll}\n",
    "0 & (b + w_1 x_1 + w_2 x_2) \\leqq 0 \\\\\n",
    "1 & (b + w_1 x_1 + w_2 x_2) > 0\n",
    "\\end{array}\n",
    "\\right.\n",
    "$$\n",
    "を、以下のように変換する  \n",
    "\n",
    "$$\n",
    "a= b + w_1 x_1 + w_2 x_2\n",
    "$$\n",
    "$$\n",
    "h(x) = \\left\\{\n",
    "\\begin{array}{ll}\n",
    "0 & x \\leqq 0 \\\\\n",
    "1 & x > 0\n",
    "\\end{array}\n",
    "\\right.\n",
    "$$\n",
    "$$\n",
    "y = h(a)\n",
    "$$\n",
    "\n",
    "$a$ : 入力信号の重み付き和(バイアス含む)を計算  \n",
    "$h(x)$ : そのニューロンが発火する条件が指定されている**活性化関数**  \n",
    "$y$ : 入力の重み付き和を活性化関数に引き渡した結果の出力  "
   ]
  },
  {
   "cell_type": "markdown",
   "metadata": {},
   "source": [
    "* 活性化関数はさまざまな関数たりうるが、パーセプトロンはある閾値で出力が切り替わる**ステップ関数**を活性化関数として採用したNNだと言える\n",
    "* ニューラルネットワークでは一般的に**シグモイド関数**が使われる  \n",
    "\n",
    "$$\n",
    "h(x)=\\frac{1}{1+\\exp(-x)}\n",
    "$$\n",
    "\n",
    "* ステップ関数とシグモイド関数を比較"
   ]
  },
  {
   "cell_type": "code",
   "execution_count": 72,
   "metadata": {},
   "outputs": [],
   "source": [
    "def step_function(x:np.array):\n",
    "    y = x > 0\n",
    "    return y.astype(int)\n",
    "def sigmoid(x:np.array):\n",
    "    y = 1/(1+np.exp(-x))\n",
    "    return y"
   ]
  },
  {
   "cell_type": "code",
   "execution_count": 70,
   "metadata": {},
   "outputs": [
    {
     "data": {
      "text/plain": [
       "array([1, 0, 1, 1, 1])"
      ]
     },
     "execution_count": 70,
     "metadata": {},
     "output_type": "execute_result"
    }
   ],
   "source": [
    "x = np.array([1,0,.5,1.4,50])\n",
    "step_function(x)"
   ]
  },
  {
   "cell_type": "code",
   "execution_count": 76,
   "metadata": {},
   "outputs": [
    {
     "data": {
      "text/plain": [
       "<matplotlib.legend.Legend at 0x1277177c0>"
      ]
     },
     "execution_count": 76,
     "metadata": {},
     "output_type": "execute_result"
    },
    {
     "data": {
      "image/png": "[encoded data removed]",
      "text/plain": [
       "<Figure size 640x480 with 1 Axes>"
      ]
     },
     "metadata": {},
     "output_type": "display_data"
    }
   ],
   "source": [
    "x=np.linspace(-5,5,100)\n",
    "y_step=step_function(x)\n",
    "y_sig=sigmoid(x)\n",
    "plt.plot(x,y_step,label='step_func')\n",
    "plt.plot(x,y_sig, label = 'sigmoid')\n",
    "plt.legend(loc ='best')"
   ]
  },
  {
   "cell_type": "markdown",
   "metadata": {},
   "source": [
    "- 最近のNNではReLU関数という関数が活性化関数で使われることが多い。<ins>**Re**</ins>ctified <ins>**L**</ins>inear <ins>**U**</ins>nit\n",
    "$$\n",
    "y=\n",
    "\\left\\{\n",
    "\\begin{array}{ll}\n",
    "0 & x\\leqq 0 \\\\\n",
    "x & x > 0\n",
    "\\end{array}\n",
    "\\right.\n",
    "$$"
   ]
  },
  {
   "cell_type": "code",
   "execution_count": 77,
   "metadata": {},
   "outputs": [
    {
     "data": {
      "text/plain": [
       "<matplotlib.legend.Legend at 0x1277a6410>"
      ]
     },
     "execution_count": 77,
     "metadata": {},
     "output_type": "execute_result"
    },
    {
     "data": {
      "image/png": "[encoded data removed]",
      "text/plain": [
       "<Figure size 640x480 with 1 Axes>"
      ]
     },
     "metadata": {},
     "output_type": "display_data"
    }
   ],
   "source": [
    "def relu(x):\n",
    "    return np.maximum(x,0)\n",
    "\n",
    "x=np.linspace(-5,5,100)\n",
    "y_step=step_function(x)\n",
    "y_sig=sigmoid(x)\n",
    "y_relu=relu(x)\n",
    "plt.plot(x,y_step,label='step_func')\n",
    "plt.plot(x,y_sig, label = 'sigmoid')\n",
    "plt.plot(x,y_relu, label = 'ReLU')\n",
    "plt.legend(loc ='best')"
   ]
  },
  {
   "cell_type": "markdown",
   "metadata": {},
   "source": [
    "### 多次元配列の計算"
   ]
  },
  {
   "cell_type": "markdown",
   "metadata": {},
   "source": [
    "- NNの計算を行列で行うと１発で計算できる。\n",
    "- 2つのインプット$x_1,x_2$に対して、それぞれ[$w_{11},w_{21}$],[$w_{12},w_{22}$],[$w_{13},w_{23}$]の重み付けをした出力$y_1,y_2,y_3$は以下のように求められる。\n",
    "\n",
    "$$\n",
    "\\begin{pmatrix}\n",
    "x_1 & x_2 \\\\\n",
    "\\end{pmatrix}\n",
    "\\begin{pmatrix}\n",
    "w_{11} & w_{12} & w_{13}\\\\\n",
    "w_{21} & w_{22} & w_{23}\\\\\n",
    "\\end{pmatrix}\n",
    "=\n",
    "\\begin{pmatrix}\n",
    "y_1=x_1 \\times w_{11}+x_2 \\times w_{21} & y_2=x_1 \\times w_{12}+x_2 \\times w_{22} & y_3=x_1 \\times w_{13}+x_2 \\times w_{23}\n",
    "\\end{pmatrix}\n",
    "$$\n",
    "\n",
    "入力ベクトルのn番目のニューロンを出力ベクトルのm番目にするためにかかる重みwを$w_{nm}$"
   ]
  },
  {
   "cell_type": "markdown",
   "metadata": {},
   "source": [
    "- おさらい  \n",
    "入力に重みをかけてバイアスを足した値を活性化関数にかけた出力が出力値  \n",
    "$$\n",
    "output = h(input \\times weight + bias)\n",
    "$$\n",
    "$$\n",
    "Y=h(X \\times W + B)\n",
    "$$"
   ]
  },
  {
   "cell_type": "markdown",
   "metadata": {},
   "source": [
    "### 適当な実装"
   ]
  },
  {
   "cell_type": "markdown",
   "metadata": {},
   "source": [
    "#### まずは重み付き和"
   ]
  },
  {
   "cell_type": "code",
   "execution_count": 97,
   "metadata": {},
   "outputs": [
    {
     "data": {
      "text/plain": [
       "array([0.3, 0.7, 1.1])"
      ]
     },
     "execution_count": 97,
     "metadata": {},
     "output_type": "execute_result"
    }
   ],
   "source": [
    "X = np.array([1.0, 0.5])\n",
    "W1 = np.array([\n",
    "    [.1, .3, .5],\n",
    "    [.2, .4, .6]\n",
    "])\n",
    "B1 = np.array([.1, .2, .3])\n",
    "A1 =np.dot(X, W1) + B1\n",
    "A1"
   ]
  },
  {
   "cell_type": "markdown",
   "metadata": {},
   "source": [
    "#### 次に活性化関数 -> 第一層"
   ]
  },
  {
   "cell_type": "code",
   "execution_count": 98,
   "metadata": {},
   "outputs": [
    {
     "data": {
      "text/plain": [
       "array([0.57444252, 0.66818777, 0.75026011])"
      ]
     },
     "execution_count": 98,
     "metadata": {},
     "output_type": "execute_result"
    }
   ],
   "source": [
    "Z1 = sigmoid(A1)\n",
    "Z1"
   ]
  },
  {
   "cell_type": "markdown",
   "metadata": {},
   "source": [
    "#### 第１層の重み付き和→第二層へ"
   ]
  },
  {
   "cell_type": "code",
   "execution_count": 99,
   "metadata": {},
   "outputs": [],
   "source": [
    "W2 = np.array([\n",
    "    [.1, .4],\n",
    "    [.2, .5],\n",
    "    [.3, .6]\n",
    "])\n",
    "B2 = np.array([.1, .2])\n",
    "A2 = np.dot(Z1,W2) + B2\n",
    "Z2 = sigmoid(A2)"
   ]
  },
  {
   "cell_type": "code",
   "execution_count": 100,
   "metadata": {},
   "outputs": [],
   "source": [
    "def identify_function(x):\n",
    "    return x"
   ]
  },
  {
   "cell_type": "markdown",
   "metadata": {},
   "source": [
    "#### 出力"
   ]
  },
  {
   "cell_type": "code",
   "execution_count": 101,
   "metadata": {},
   "outputs": [
    {
     "data": {
      "text/plain": [
       "array([0.31682708, 0.69627909])"
      ]
     },
     "execution_count": 101,
     "metadata": {},
     "output_type": "execute_result"
    }
   ],
   "source": [
    "W3 = np.array([\n",
    "    [.1, .3],\n",
    "    [.2, .4]\n",
    "])\n",
    "B2 = np.array([.1, .2])\n",
    "\n",
    "Y = identify_function(np.dot(Z2,W3) + B2)\n",
    "Y"
   ]
  },
  {
   "cell_type": "markdown",
   "metadata": {},
   "source": [
    "#### ここまでを一気に実装する"
   ]
  },
  {
   "cell_type": "code",
   "execution_count": 44,
   "metadata": {},
   "outputs": [],
   "source": [
    "def sigmoid(x:np.array):\n",
    "    return 1/(1+np.exp(-x))\n",
    "\n",
    "def identify_function(x):\n",
    "    return x\n",
    "\n",
    "def init_network():\n",
    "    network = {}\n",
    "    network['W1']=np.array([\n",
    "        [.1, .3, .5],\n",
    "        [.2, .4, .5],\n",
    "    ])\n",
    "    network['b1']=np.array([.1, .2, .3])\n",
    "    network['W2']=np.array([\n",
    "        [.1, .4],\n",
    "        [.2, .5],\n",
    "        [.3, .6]\n",
    "    ])\n",
    "    network['b2']=np.array([.1, .2])\n",
    "    network['W3']=np.array([\n",
    "        [.1, .3],\n",
    "        [.2, .4]\n",
    "    ])\n",
    "    network['b3']=np.array([.1, .2])\n",
    "    return network\n",
    "\n",
    "def forward(network, x):\n",
    "    W1, W2, W3 = network['W1'], network['W2'], network['W3']\n",
    "    b1, b2, b3 = network['b1'], network['b2'], network['b3']\n",
    "\n",
    "    a1 = np.dot(x, W1) + b1\n",
    "    z1 = sigmoid(a1)\n",
    "    a2 = np.dot(z1, W2) + b2\n",
    "    z2 = sigmoid(a2)\n",
    "    a3 = np.dot(z2, W3) + b3\n",
    "    y = identify_function(a3)\n",
    "    return y"
   ]
  },
  {
   "cell_type": "code",
   "execution_count": 103,
   "metadata": {},
   "outputs": [
    {
     "name": "stdout",
     "output_type": "stream",
     "text": [
      "[0.31655918 0.69567667]\n"
     ]
    }
   ],
   "source": [
    "network = init_network()\n",
    "x=(1, .5)\n",
    "y = forward(network, x)\n",
    "print(y)"
   ]
  },
  {
   "cell_type": "markdown",
   "metadata": {},
   "source": [
    "## 3.5 出力層"
   ]
  },
  {
   "cell_type": "markdown",
   "metadata": {},
   "source": [
    "ニューラルネットワークは出力層を変えることで回帰にも分類にも応用可能。  \n",
    "一般的に回帰の場合は恒等関数、分類のときはソフトマックス関数が用いられる"
   ]
  },
  {
   "cell_type": "markdown",
   "metadata": {},
   "source": [
    "恒等関数＝入力値をそのまま返す関数\n",
    "ソフトマックス関数\n",
    "$$y_k=\\frac{exp(a_k)}{\\sum_{i=1}^{n}exp(a_i)}$$\n",
    "n個の入力がある時のk番目の出力には、全ての入力の指数関数の和が関係する"
   ]
  },
  {
   "cell_type": "code",
   "execution_count": 3,
   "metadata": {},
   "outputs": [
    {
     "name": "stdout",
     "output_type": "stream",
     "text": [
      "[0.01821127 0.24519181 0.73659691]\n"
     ]
    }
   ],
   "source": [
    "# ソフトマックス関数の実装\n",
    "a = np.array([.3, 2.9, 4])\n",
    "exp_a = np.exp(a)\n",
    "sum_exp_a = np.sum(exp_a)\n",
    "y = exp_a / sum_exp_a\n",
    "print(y)"
   ]
  },
  {
   "cell_type": "code",
   "execution_count": 7,
   "metadata": {},
   "outputs": [
    {
     "name": "stdout",
     "output_type": "stream",
     "text": [
      "[0.3 2.9 4. ]\n",
      "[0.01821127 0.24519181 0.73659691]\n"
     ]
    }
   ],
   "source": [
    "def softmax(a):\n",
    "    exp_a = np.exp(a)\n",
    "    sum_exp_a = np.sum(exp_a)\n",
    "    return exp_a / sum_exp_a\n",
    "\n",
    "print(a)\n",
    "print(softmax(a))"
   ]
  },
  {
   "cell_type": "markdown",
   "metadata": {},
   "source": [
    "ソフトマックスの計算で登場するeの指数関数は莫大な値になってしまう。\n",
    "以下の数式変換によって、任意の定数を足し引きしても元の出力と変わらないことを利用し、与えられた入力の最大値を引くことで計算量を節約する。\n",
    "$$\n",
    "\\begin{align}\n",
    "y_k &= \\frac{exp(a_k)}{\\sum_{i=1}^{n}exp(a_i)}\\\\\n",
    "&= \\frac{C \\times exp(a_k)}{C \\times \\sum_{i=1}^{n}exp(a_i)}\\\\\n",
    "&= \\frac{exp(a_k+logC)}{\\sum_{i=1}^{n}exp(a_i+logC)}\\\\\n",
    "&= \\frac{exp(a_k+C')}{\\sum_{i=1}^{n}exp(a_i+C')}\\\\\n",
    "&= \\frac{exp(c_k)}{\\sum_{i=1}^{n}exp(c_i)}\\\\\n",
    "\\end{align} \\\\\n",
    "(c_k = a_k+C'とおく)\n",
    "$$"
   ]
  },
  {
   "cell_type": "code",
   "execution_count": 12,
   "metadata": {},
   "outputs": [
    {
     "name": "stdout",
     "output_type": "stream",
     "text": [
      "[nan nan nan]\n"
     ]
    },
    {
     "name": "stderr",
     "output_type": "stream",
     "text": [
      "/var/folders/hs/ztz399gn2s1gkzbjjfpyc5_w0000gn/T/ipykernel_3422/1715826989.py:2: RuntimeWarning: overflow encountered in exp\n",
      "  exp_a = np.exp(a)\n",
      "/var/folders/hs/ztz399gn2s1gkzbjjfpyc5_w0000gn/T/ipykernel_3422/1715826989.py:4: RuntimeWarning: invalid value encountered in divide\n",
      "  return exp_a / sum_exp_a\n"
     ]
    }
   ],
   "source": [
    "a = np.array([1010,1000,990])\n",
    "print(softmax(a))"
   ]
  },
  {
   "cell_type": "code",
   "execution_count": 13,
   "metadata": {},
   "outputs": [
    {
     "name": "stdout",
     "output_type": "stream",
     "text": [
      "[9.99954600e-01 4.53978686e-05 2.06106005e-09]\n"
     ]
    }
   ],
   "source": [
    "c = a - np.max(a)\n",
    "exp_c = np.exp(c)\n",
    "sum_exp_c = np.sum(exp_c)\n",
    "y = exp_c / sum_exp_c\n",
    "print(y)"
   ]
  },
  {
   "cell_type": "code",
   "execution_count": 15,
   "metadata": {},
   "outputs": [
    {
     "name": "stdout",
     "output_type": "stream",
     "text": [
      "[1010 1000  990]\n",
      "[9.99954600e-01 4.53978686e-05 2.06106005e-09]\n"
     ]
    }
   ],
   "source": [
    "def softmax(a):\n",
    "    a = a-np.max(a)\n",
    "    exp_a = np.exp(a)\n",
    "    sum_exp_a = np.sum(exp_a)\n",
    "    return exp_a / sum_exp_a\n",
    "\n",
    "print(a)\n",
    "print(softmax(a))"
   ]
  },
  {
   "cell_type": "markdown",
   "metadata": {},
   "source": [
    "ソフトマックス関数の特徴として、総和が1になる。\n",
    "これによって、出力を確率として解釈することができ、最も大きな出力をもつクラスを分類問題の答えに割り当てることが可能。\n",
    "一方で、ソフトマックス関数は単調増加関数であるため、最も大きな入力に対応する出力が最も大きい。\n",
    "確率の出力値が不要で、<ins>最も確率が高い入力がどれか</ins>がわかれば良い場合はソフトマックス関数を省略するケースも多い。"
   ]
  },
  {
   "cell_type": "markdown",
   "metadata": {},
   "source": [
    "出力層の数は、問題によって異なる。\n",
    "クラス分類なら分類したいクラスの数だけ最終出力を用意する"
   ]
  },
  {
   "cell_type": "markdown",
   "metadata": {},
   "source": [
    "## 3.6 手書き数字の認識 10クラス分類問題の実装"
   ]
  },
  {
   "cell_type": "code",
   "execution_count": 26,
   "metadata": {},
   "outputs": [
    {
     "data": {
      "text/plain": [
       "dict_keys(['train_img', 'train_label', 'test_img', 'test_label'])"
      ]
     },
     "execution_count": 26,
     "metadata": {},
     "output_type": "execute_result"
    }
   ],
   "source": [
    "dataset.keys()"
   ]
  },
  {
   "cell_type": "code",
   "execution_count": 34,
   "metadata": {},
   "outputs": [],
   "source": [
    "pil=Image.fromarray(dataset['train_img'][0].reshape(28,28))\n",
    "pil.show()"
   ]
  },
  {
   "cell_type": "markdown",
   "metadata": {},
   "source": [
    "28×28pixelの数字の画像を推論する。\n",
    "入力情報は各ピクセルの値なので$28 \\times 28 = 784$、出力情報は0〜9の数字を当てるので10\n",
    "隠れ層は任意だがテキストに従って、2層、50->100ニューロンにする"
   ]
  },
  {
   "cell_type": "code",
   "execution_count": 41,
   "metadata": {},
   "outputs": [],
   "source": [
    "X_train, X_test, y_train, y_test = \\\n",
    "    dataset['train_img']/255.0, dataset['test_img']/255.0, \\\n",
    "    dataset['train_label'], dataset['test_label']\n",
    "# 明度スコア0~255を255で割って0~1に正規化"
   ]
  },
  {
   "cell_type": "code",
   "execution_count": 62,
   "metadata": {},
   "outputs": [],
   "source": [
    "def init_network(): # デモとして訓練ずみの重み,バイアスを使用\n",
    "    with open('./mnist/sample_weight.pkl','rb') as f:\n",
    "        network = pickle.load(f)\n",
    "        return network\n",
    "\n",
    "def predict(network, x):\n",
    "    W1,W2,W3 = network['W1'],network['W2'],network['W3']\n",
    "    b1,b2,b3 = network['b1'],network['b2'],network['b3']\n",
    "\n",
    "    a1 = np.dot(x, W1) + b1 # 入力に重みとバイアス\n",
    "    z1 = sigmoid(a1) # 第一層の活性化関数\n",
    "    a2 = np.dot(z1, W2) + b2 # 第一層の出力に重みとバイアス\n",
    "    z2 = sigmoid(a2) # 第二層の活性化関数\n",
    "    a3 = np.dot(z2, W3) + b3 # 第二層の出力に重みとバイアス\n",
    "    y = softmax(a3) # 出力層の活性化関数\n",
    "    return y"
   ]
  },
  {
   "cell_type": "code",
   "execution_count": 63,
   "metadata": {},
   "outputs": [],
   "source": [
    "network = init_network()\n",
    "y = predict(network,X_test[0])"
   ]
  },
  {
   "cell_type": "code",
   "execution_count": 65,
   "metadata": {},
   "outputs": [
    {
     "data": {
      "text/plain": [
       "7"
      ]
     },
     "execution_count": 65,
     "metadata": {},
     "output_type": "execute_result"
    }
   ],
   "source": [
    "np.argmax(y)"
   ]
  },
  {
   "cell_type": "code",
   "execution_count": 74,
   "metadata": {},
   "outputs": [],
   "source": [
    "y_predicted = np.array([np.argmax(predict(network,x)) for x in X_test])"
   ]
  },
  {
   "cell_type": "code",
   "execution_count": 81,
   "metadata": {},
   "outputs": [
    {
     "data": {
      "text/plain": [
       "(array([False,  True]), array([ 648, 9352]))"
      ]
     },
     "execution_count": 81,
     "metadata": {},
     "output_type": "execute_result"
    }
   ],
   "source": [
    "result = np.unique(y_test==y_predicted,return_counts=True)\n",
    "result"
   ]
  },
  {
   "cell_type": "code",
   "execution_count": 95,
   "metadata": {},
   "outputs": [
    {
     "name": "stdout",
     "output_type": "stream",
     "text": [
      "Accuracy = 93.52%\n"
     ]
    }
   ],
   "source": [
    "score = result[1][result[0]==True][0]/y_predicted.size\n",
    "print(f'Accuracy = {score:.2%}')\n"
   ]
  },
  {
   "cell_type": "code",
   "execution_count": 96,
   "metadata": {},
   "outputs": [
    {
     "name": "stdout",
     "output_type": "stream",
     "text": [
      "(784,) (784, 50) (50,) (50, 100) (100,) (100, 10) (10,)\n"
     ]
    }
   ],
   "source": [
    "print(\n",
    "    X_test[0].shape,\n",
    "    network['W1'].shape,\n",
    "    network['b1'].shape,\n",
    "    network['W2'].shape,\n",
    "    network['b2'].shape,\n",
    "    network['W3'].shape,\n",
    "    network['b3'].shape,\n",
    ")"
   ]
  },
  {
   "cell_type": "markdown",
   "metadata": {},
   "source": [
    "先の実装では、10000枚の画像を一つずつNNに通して計算していた。  \n",
    "バッチ処理で、一気に100枚ずつNNに通すように回収する（計算速度の利点）"
   ]
  },
  {
   "cell_type": "code",
   "execution_count": 98,
   "metadata": {},
   "outputs": [
    {
     "data": {
      "text/plain": [
       "(100, 784)"
      ]
     },
     "execution_count": 98,
     "metadata": {},
     "output_type": "execute_result"
    }
   ],
   "source": [
    "X_test[0:100].shape"
   ]
  },
  {
   "cell_type": "code",
   "execution_count": 105,
   "metadata": {},
   "outputs": [],
   "source": [
    "batch_size = 100\n",
    "accuracy_cnt = 0\n",
    "\n",
    "for i in range(0,len(X_test),batch_size):\n",
    "    x_batch = X_test[i:i+batch_size]\n",
    "    y_predicted = np.argmax(predict(network,x_batch),axis=1)\n",
    "    accuracy_cnt += np.sum(y_predicted == y_test[i:i+batch_size])"
   ]
  },
  {
   "cell_type": "code",
   "execution_count": 106,
   "metadata": {},
   "outputs": [
    {
     "data": {
      "text/plain": [
       "0.9352"
      ]
     },
     "execution_count": 106,
     "metadata": {},
     "output_type": "execute_result"
    }
   ],
   "source": [
    "accuracy_cnt/y_test.size"
   ]
  },
  {
   "cell_type": "code",
   "execution_count": 107,
   "metadata": {},
   "outputs": [
    {
     "data": {
      "text/plain": [
       "0.9352"
      ]
     },
     "execution_count": 107,
     "metadata": {},
     "output_type": "execute_result"
    }
   ],
   "source": [
    "batch_size = 10000\n",
    "accuracy_cnt = 0\n",
    "\n",
    "for i in range(0,len(X_test),batch_size):\n",
    "    x_batch = X_test[i:i+batch_size]\n",
    "    y_predicted = np.argmax(predict(network,x_batch),axis=1)\n",
    "    accuracy_cnt += np.sum(y_predicted == y_test[i:i+batch_size])\n",
    "accuracy_cnt/y_test.size"
   ]
  },
  {
   "cell_type": "code",
   "execution_count": 109,
   "metadata": {},
   "outputs": [
    {
     "name": "stdout",
     "output_type": "stream",
     "text": [
      "93.52%\n"
     ]
    }
   ],
   "source": [
    "y_predicted=np.argmax(predict(network,X_test),axis=1)\n",
    "accuracy_cnt = np.sum(y_predicted==y_test)\n",
    "accuracy_score = accuracy_cnt/y_predicted.size\n",
    "print(f'{accuracy_score:.2%}')"
   ]
  },
  {
   "cell_type": "markdown",
   "metadata": {},
   "source": [
    "え、そもそものテストデータを(10000個,784pixel)の行列とみなしたらわざわざバッチ処理なんて小面倒なことしなくても一気に計算できるのでは？"
   ]
  },
  {
   "cell_type": "markdown",
   "metadata": {},
   "source": [
    "## 4.2 損失関数\n",
    "一般的な機械学習は人間の手で加工した特徴量を突っ込んで機械が学習する。  \n",
    "特徴量エンジニアリングが必須。  \n",
    "一方でNNは、特徴量の作成までも機械が行うend to end ML。  \n",
    "NNにおいては、損失関数という**精度がどれだけ悪いか**という指標を用いて、損失関数を最小化するように機械が勝手にチューニングを行う。\n",
    "損失関数には複数あり、よく用いられるものとして以下がある。\n",
    "1. 二乗和誤差\n",
    "1. 交差エントロピー誤差"
   ]
  },
  {
   "cell_type": "markdown",
   "metadata": {},
   "source": [
    "### 二乗和誤差\n",
    "$$\n",
    "E = \\frac{1}{2} \\sum\\limits_{k} (y_k-t_k)^2\n",
    "$$\n",
    "$t$は教師データ、$y$はNNの出力を表す。\n",
    "手書き数字を当てる問題だと、$y$はsoftmax関数の出力で0~9それぞれに該当する確率が出てくる。\n",
    "$$\n",
    "y = \\begin{pmatrix}\n",
    " 0の確率 \\\\ 1の確率 \\\\ 2の確率 \\\\ 3の確率 \\\\ 4の確率 \\\\ 5の確率 \\\\ 6の確率 \\\\ 7の確率 \\\\ 8の確率 \\\\ 9の確率\n",
    "\\end{pmatrix}\n",
    "=\n",
    "\\begin{pmatrix}\n",
    " 0.1 \\\\ 0.01 \\\\ 0.4 \\\\ 0.2 \\\\ 0.1 \\\\ 0.8 \\\\ 0.1 \\\\ 0.03 \\\\ 0.02 \\\\ 0.4\n",
    "\\end{pmatrix}\n",
    "$$\n",
    "一方で$t$は正解データのone hot encodingデータ。\n",
    "$$\n",
    "t =\n",
    "\\begin{pmatrix}\n",
    " 0 \\\\ 1 \\\\ 2 \\\\ 3 \\\\ 4 \\\\ 5 \\\\ 6 \\\\ 7 \\\\ 8 \\\\ 9\n",
    "\\end{pmatrix}\n",
    "=\n",
    "\\begin{pmatrix}\n",
    " 0 \\\\ 0 \\\\ 0 \\\\ 0 \\\\ 0 \\\\ 1 \\\\ 0 \\\\ 0 \\\\ 0 \\\\ 0\n",
    "\\end{pmatrix}\n",
    "$$\n",
    "それぞれの数字に対して正解と確率の差の二乗を足し込んだ値を最小化していく、という考え方。\n",
    "2で割っている理由は、この後出てくる勾配法にて、この損失関数の傾きを計算する際に微分する際、計算が簡単になるために慣習としてつけているらしい。"
   ]
  },
  {
   "cell_type": "code",
   "execution_count": 110,
   "metadata": {},
   "outputs": [],
   "source": [
    "def sum_squared_error(pred,train):\n",
    "    return 0.5 * np.sum((pred-train)**2)"
   ]
  },
  {
   "cell_type": "markdown",
   "metadata": {},
   "source": [
    "### 交差エントロピー誤差\n",
    "$$\n",
    "E = -\\sum\\limits_{k} t_k\\log_e{y_k}\n",
    "$$\n",
    "$t,y$は二乗和誤差と同じで、不正解ラベルのtは0なので、単純に正解ラベルの予測確立の自然対数$-\\log_e{y_{cerrect}}$  \n",
    "確率が最大($y_{cerrect}=1$)になると$\\log{1}=0$で損失関数が最小になる"
   ]
  },
  {
   "cell_type": "code",
   "execution_count": 113,
   "metadata": {},
   "outputs": [
    {
     "name": "stderr",
     "output_type": "stream",
     "text": [
      "/var/folders/hs/ztz399gn2s1gkzbjjfpyc5_w0000gn/T/ipykernel_3422/4058711112.py:2: RuntimeWarning: divide by zero encountered in log\n",
      "  y = (-1)*np.log(x)\n"
     ]
    },
    {
     "data": {
      "text/plain": [
       "Text(0, 0.5, 'value of loss function')"
      ]
     },
     "execution_count": 113,
     "metadata": {},
     "output_type": "execute_result"
    },
    {
     "data": {
      "image/png": "[encoded data removed]",
      "text/plain": [
       "<Figure size 640x480 with 1 Axes>"
      ]
     },
     "metadata": {},
     "output_type": "display_data"
    }
   ],
   "source": [
    "x = np.linspace(0,1,1000)\n",
    "y = (-1)*np.log(x)\n",
    "plt.scatter(x,y)\n",
    "plt.xlabel('predicted possiblity of correct label')\n",
    "plt.ylabel('value of loss function')"
   ]
  },
  {
   "cell_type": "code",
   "execution_count": 114,
   "metadata": {},
   "outputs": [],
   "source": [
    "def cross_entropy_error(pred,train):\n",
    "    pred=pred+(1e-7) #log0の計算にならないように微小な値を足しておく\n",
    "    return -np.sum(train*np.log(pred))"
   ]
  }
 ],
 "metadata": {
  "kernelspec": {
   "display_name": ".venv",
   "language": "python",
   "name": "python3"
  },
  "language_info": {
   "codemirror_mode": {
    "name": "ipython",
    "version": 3
   },
   "file_extension": ".py",
   "mimetype": "text/x-python",
   "name": "python",
   "nbconvert_exporter": "python",
   "pygments_lexer": "ipython3",
   "version": "3.10.11"
  },
  "orig_nbformat": 4
 },
 "nbformat": 4,
 "nbformat_minor": 2
}
