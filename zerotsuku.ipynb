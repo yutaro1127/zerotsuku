{
 "cells": [
  {
   "cell_type": "code",
   "execution_count": 34,
   "metadata": {},
   "outputs": [],
   "source": [
    "import numpy as np\n",
    "import pandas as pd\n",
    "from matplotlib import pyplot as plt"
   ]
  },
  {
   "cell_type": "markdown",
   "metadata": {},
   "source": [
    "### 2.3　パーセプトロンの実装  \n",
    "* パーセプトロンとは、複数の0,1入力をもとに1つの0,1出力を返すアルゴリズムのこと"
   ]
  },
  {
   "cell_type": "code",
   "execution_count": 1,
   "metadata": {},
   "outputs": [],
   "source": [
    "def AND(x1,x2):\n",
    "    w1, w2, theta = .5, .5, .7\n",
    "    tmp = x1 * w1 + x2 * w2 - theta\n",
    "    if tmp <= 0:\n",
    "        return 0\n",
    "    elif tmp > 0:\n",
    "        return 1"
   ]
  },
  {
   "cell_type": "code",
   "execution_count": 3,
   "metadata": {},
   "outputs": [
    {
     "name": "stdout",
     "output_type": "stream",
     "text": [
      "0\n",
      "1\n",
      "0\n",
      "0\n"
     ]
    }
   ],
   "source": [
    "print(AND(0,0))\n",
    "print(AND(1,1))\n",
    "print(AND(1,0))\n",
    "print(AND(0,1))"
   ]
  },
  {
   "cell_type": "markdown",
   "metadata": {},
   "source": [
    "* 重みとバイアスを導入。行列式の形にする"
   ]
  },
  {
   "cell_type": "markdown",
   "metadata": {},
   "source": [
    "2つの入力値$x_1,x_2$について、それぞれに対応する重み$w_1, w_2$をかけた和とバイアス($b$)の大小で出力を判断する。  \n",
    "$$\n",
    "y=\n",
    "\\left\\{\n",
    "\\begin{array}{ll}\n",
    "0 & (b + w_1 x_1 + w_2 x_2) \\leqq 0 \\\\\n",
    "1 & (b + w_1 x_1 + w_2 x_2) > 0\n",
    "\\end{array}\n",
    "\\right.\n",
    "$$"
   ]
  },
  {
   "cell_type": "code",
   "execution_count": 13,
   "metadata": {},
   "outputs": [],
   "source": [
    "def AND(x1, x2):\n",
    "    x = np.array([x1, x2])\n",
    "    w = np.array([.5, .5])\n",
    "    b = -.7\n",
    "    tmp = b + np.sum(x * w)\n",
    "    if tmp <= 0:\n",
    "        return 0\n",
    "    elif tmp > 0:\n",
    "        return 1"
   ]
  },
  {
   "cell_type": "code",
   "execution_count": 14,
   "metadata": {},
   "outputs": [
    {
     "name": "stdout",
     "output_type": "stream",
     "text": [
      "[0, 0] -> 0\n",
      "[0, 1] -> 0\n",
      "[1, 0] -> 0\n",
      "[1, 1] -> 1\n"
     ]
    }
   ],
   "source": [
    "for m in range(2):\n",
    "    for n in range(2):\n",
    "        print(f'{[m,n]} -> {AND(m,n)}')"
   ]
  },
  {
   "cell_type": "markdown",
   "metadata": {},
   "source": [
    "- 重み$w_n$は対応する入力値$x_n$それぞれの重要度を制御  \n",
    "- バイアス$b$はそのニューロンの発火しやすさを制御"
   ]
  },
  {
   "cell_type": "code",
   "execution_count": 23,
   "metadata": {},
   "outputs": [
    {
     "name": "stdout",
     "output_type": "stream",
     "text": [
      "NAND\n",
      "[0, 0] -> 1\n",
      "[0, 1] -> 1\n",
      "[1, 0] -> 1\n",
      "[1, 1] -> 0\n"
     ]
    }
   ],
   "source": [
    "def NAND(x1, x2):\n",
    "    x = np.array([x1, x2])\n",
    "    w = np.array([-.5, -.5])\n",
    "    b = .7\n",
    "    tmp = b + np.sum(x * w)\n",
    "    if tmp <= 0:\n",
    "        return 0\n",
    "    elif tmp > 0:\n",
    "        return 1\n",
    "\n",
    "print('NAND')\n",
    "for m in range(2):\n",
    "    for n in range(2):\n",
    "        print(f'{[m,n]} -> {NAND(m,n)}')"
   ]
  },
  {
   "cell_type": "code",
   "execution_count": 33,
   "metadata": {},
   "outputs": [
    {
     "name": "stdout",
     "output_type": "stream",
     "text": [
      "NAND\n",
      "[0, 0] -> 0\n",
      "[0, 1] -> 1\n",
      "[1, 0] -> 1\n",
      "[1, 1] -> 1\n"
     ]
    }
   ],
   "source": [
    "def OR(x1, x2):\n",
    "    x = np.array([x1, x2])\n",
    "    w = np.array([.5, .5])\n",
    "    b = -.2\n",
    "    tmp = b + np.sum(x * w)\n",
    "    if tmp <= 0:\n",
    "        return 0\n",
    "    elif tmp > 0:\n",
    "        return 1\n",
    "\n",
    "print('NAND')\n",
    "for m in range(2):\n",
    "    for n in range(2):\n",
    "        print(f'{[m,n]} -> {OR(m,n)}')"
   ]
  },
  {
   "cell_type": "markdown",
   "metadata": {},
   "source": [
    "* XOR:排他的論理和  \n",
    "これは線型のパーセプトロンでは実装できない\n",
    "\n",
    "| $x_1$ | $x_2$ | $y$ |  \n",
    "| :---: | :---: | :---: |  \n",
    "| 0 | 0 | 0 |  \n",
    "| 1 | 0 | 1 |  \n",
    "| 0 | 1 | 1 |  \n",
    "| 1 | 1 | 0 |  "
   ]
  },
  {
   "cell_type": "code",
   "execution_count": 56,
   "metadata": {},
   "outputs": [
    {
     "data": {
      "text/plain": [
       "<matplotlib.legend.Legend at 0x121b8d6f0>"
      ]
     },
     "execution_count": 56,
     "metadata": {},
     "output_type": "execute_result"
    },
    {
     "data": {
      "image/png": "[encoded data removed]",
      "text/plain": [
       "<Figure size 640x480 with 1 Axes>"
      ]
     },
     "metadata": {},
     "output_type": "display_data"
    }
   ],
   "source": [
    "plt.xlim([-1,2])\n",
    "plt.ylim([-1,2])\n",
    "plt.hlines(y=0,xmin=-5,xmax=5,colors='gray')\n",
    "plt.vlines(x=0,ymin=-5,ymax=5,colors='gray')\n",
    "plt.scatter(x=[0,1],y=[0,1],marker='^',s=100,label='0')\n",
    "plt.scatter(x=[0,1],y=[1,0],marker='o',s=100,label='1')\n",
    "plt.legend(loc='best')\n"
   ]
  },
  {
   "cell_type": "markdown",
   "metadata": {},
   "source": [
    "* 上の図で、三角(出力が0)と丸(出力が1)を分ける直線が引けない"
   ]
  },
  {
   "cell_type": "markdown",
   "metadata": {},
   "source": [
    "### 多層パーセプトロン\n",
    "* パーセプトロンを組み合わせることで非線形の分離を実装可能  "
   ]
  },
  {
   "cell_type": "code",
   "execution_count": 63,
   "metadata": {},
   "outputs": [
    {
     "name": "stdout",
     "output_type": "stream",
     "text": [
      "XOR\n",
      "[0, 0] -> AND:0, NAND:1, OR:0, XOR:0\n",
      "[0, 1] -> AND:0, NAND:1, OR:1, XOR:1\n",
      "[1, 0] -> AND:0, NAND:1, OR:1, XOR:1\n",
      "[1, 1] -> AND:1, NAND:0, OR:1, XOR:0\n"
     ]
    }
   ],
   "source": [
    "def XOR(x1,x2):\n",
    "    s1 = OR(x1,x2)\n",
    "    s2 = NAND(x1,x2)\n",
    "    y = AND(s1,s2)\n",
    "    return y\n",
    "\n",
    "print('XOR')\n",
    "for m in range(2):\n",
    "    for n in range(2):\n",
    "        print(f'{[m,n]} -> AND:{AND(m,n)}, NAND:{NAND(m,n)}, OR:{OR(m,n)}, XOR:{XOR(m,n)}')"
   ]
  },
  {
   "cell_type": "markdown",
   "metadata": {},
   "source": [
    "* 線型なパーセプトロンでも多層にすることで非線形な表現が可能。\n",
    "* でも今のところ、パラメータ(重みやバイアス)の値は人間が期待する出力に合わせて調整している\n",
    "* 最適なパラメータをデータから学習させることを考える"
   ]
  },
  {
   "cell_type": "markdown",
   "metadata": {},
   "source": [
    "### ニューラルネットワーク"
   ]
  },
  {
   "cell_type": "markdown",
   "metadata": {},
   "source": [
    "$$\n",
    "y=\n",
    "\\left\\{\n",
    "\\begin{array}{ll}\n",
    "0 & (b + w_1 x_1 + w_2 x_2) \\leqq 0 \\\\\n",
    "1 & (b + w_1 x_1 + w_2 x_2) > 0\n",
    "\\end{array}\n",
    "\\right.\n",
    "$$\n",
    "を、以下のように変換する  \n",
    "\n",
    "$$\n",
    "a= b + w_1 x_1 + w_2 x_2\n",
    "$$\n",
    "$$\n",
    "h(x) = \\left\\{\n",
    "\\begin{array}{ll}\n",
    "0 & x \\leqq 0 \\\\\n",
    "1 & x > 0\n",
    "\\end{array}\n",
    "\\right.\n",
    "$$\n",
    "$$\n",
    "y = h(a)\n",
    "$$\n",
    "\n",
    "$a$ : 入力信号の重み付き和(バイアス含む)を計算  \n",
    "$h(x)$ : そのニューロンが発火する条件が指定されている**活性化関数**  \n",
    "$y$ : 入力の重み付き和を活性化関数に引き渡した結果の出力  "
   ]
  },
  {
   "cell_type": "markdown",
   "metadata": {},
   "source": [
    "* 活性化関数はさまざまな関数たりうるが、パーセプトロンはある閾値で出力が切り替わる**ステップ関数**を活性化関数として採用したNNだと言える\n",
    "* ニューラルネットワークでは一般的に**シグモイド関数**が使われる  \n",
    "\n",
    "$$\n",
    "h(x)=\\frac{1}{1+\\exp(-x)}\n",
    "$$\n",
    "\n",
    "* ステップ関数とシグモイド関数を比較"
   ]
  },
  {
   "cell_type": "code",
   "execution_count": 72,
   "metadata": {},
   "outputs": [],
   "source": [
    "def step_function(x:np.array):\n",
    "    y = x > 0\n",
    "    return y.astype(int)\n",
    "def sigmoid(x:np.array):\n",
    "    y = 1/(1+np.exp(-x))\n",
    "    return y"
   ]
  },
  {
   "cell_type": "code",
   "execution_count": 70,
   "metadata": {},
   "outputs": [
    {
     "data": {
      "text/plain": [
       "array([1, 0, 1, 1, 1])"
      ]
     },
     "execution_count": 70,
     "metadata": {},
     "output_type": "execute_result"
    }
   ],
   "source": [
    "x = np.array([1,0,.5,1.4,50])\n",
    "step_function(x)"
   ]
  },
  {
   "cell_type": "code",
   "execution_count": 76,
   "metadata": {},
   "outputs": [
    {
     "data": {
      "text/plain": [
       "<matplotlib.legend.Legend at 0x1277177c0>"
      ]
     },
     "execution_count": 76,
     "metadata": {},
     "output_type": "execute_result"
    },
    {
     "data": {
      "image/png": "[encoded data removed]",
      "text/plain": [
       "<Figure size 640x480 with 1 Axes>"
      ]
     },
     "metadata": {},
     "output_type": "display_data"
    }
   ],
   "source": [
    "x=np.linspace(-5,5,100)\n",
    "y_step=step_function(x)\n",
    "y_sig=sigmoid(x)\n",
    "plt.plot(x,y_step,label='step_func')\n",
    "plt.plot(x,y_sig, label = 'sigmoid')\n",
    "plt.legend(loc ='best')"
   ]
  }
 ],
 "metadata": {
  "kernelspec": {
   "display_name": ".venv",
   "language": "python",
   "name": "python3"
  },
  "language_info": {
   "codemirror_mode": {
    "name": "ipython",
    "version": 3
   },
   "file_extension": ".py",
   "mimetype": "text/x-python",
   "name": "python",
   "nbconvert_exporter": "python",
   "pygments_lexer": "ipython3",
   "version": "3.10.11"
  },
  "orig_nbformat": 4
 },
 "nbformat": 4,
 "nbformat_minor": 2
}
